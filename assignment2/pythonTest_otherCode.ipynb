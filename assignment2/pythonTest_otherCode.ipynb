{
 "cells": [
  {
   "cell_type": "code",
   "execution_count": 1,
   "metadata": {},
   "outputs": [
    {
     "name": "stderr",
     "output_type": "stream",
     "text": [
      "Using TensorFlow backend.\n"
     ]
    }
   ],
   "source": [
    "import pandas as pd\n",
    "import numpy as np\n",
    "from sklearn.preprocessing import LabelEncoder, OneHotEncoder\n",
    "from keras.utils import to_categorical\n",
    "from kneed.knee_locator import KneeLocator"
   ]
  },
  {
   "cell_type": "code",
   "execution_count": 2,
   "metadata": {},
   "outputs": [],
   "source": [
    "df = pd.read_csv(\"C:\\\\Users\\\\ujwal\\\\data\\\\stonybrook\\\\spring2020\\\\visualization\\\\assignment2\\\\data.csv\")"
   ]
  },
  {
   "cell_type": "code",
   "execution_count": 3,
   "metadata": {},
   "outputs": [
    {
     "data": {
      "text/plain": [
       "(500, 24)"
      ]
     },
     "execution_count": 3,
     "metadata": {},
     "output_type": "execute_result"
    }
   ],
   "source": [
    "df.shape"
   ]
  },
  {
   "cell_type": "code",
   "execution_count": 4,
   "metadata": {},
   "outputs": [
    {
     "data": {
      "text/plain": [
       "Index(['id', 'url', 'region', 'region_url', 'price', 'year', 'manufacturer',\n",
       "       'model', 'condition', 'cylinders', 'fuel', 'odometer', 'title_status',\n",
       "       'transmission', 'vin', 'drive', 'size', 'type', 'paint_color',\n",
       "       'image_url', 'description', 'state', 'lat', 'long'],\n",
       "      dtype='object')"
      ]
     },
     "execution_count": 4,
     "metadata": {},
     "output_type": "execute_result"
    }
   ],
   "source": [
    "df.columns"
   ]
  },
  {
   "cell_type": "code",
   "execution_count": 5,
   "metadata": {},
   "outputs": [],
   "source": [
    "columns = ['price', 'condition', 'fuel', 'odometer',\n",
    "          'title_status', 'transmission', 'drive', 'size', 'lat', 'long']"
   ]
  },
  {
   "cell_type": "code",
   "execution_count": 6,
   "metadata": {},
   "outputs": [],
   "source": [
    "data = df[columns]"
   ]
  },
  {
   "cell_type": "code",
   "execution_count": 7,
   "metadata": {},
   "outputs": [],
   "source": [
    "randomSample = data.sample(frac = 0.25)"
   ]
  },
  {
   "cell_type": "code",
   "execution_count": 8,
   "metadata": {},
   "outputs": [
    {
     "data": {
      "text/plain": [
       "(125, 10)"
      ]
     },
     "execution_count": 8,
     "metadata": {},
     "output_type": "execute_result"
    }
   ],
   "source": [
    "randomSample.shape"
   ]
  },
  {
   "cell_type": "code",
   "execution_count": 9,
   "metadata": {},
   "outputs": [
    {
     "data": {
      "text/plain": [
       "full-size      319\n",
       "mid-size       120\n",
       "compact         59\n",
       "sub-compact      2\n",
       "Name: size, dtype: int64"
      ]
     },
     "execution_count": 9,
     "metadata": {},
     "output_type": "execute_result"
    }
   ],
   "source": [
    "data['size'].value_counts()"
   ]
  },
  {
   "cell_type": "code",
   "execution_count": 10,
   "metadata": {},
   "outputs": [
    {
     "name": "stderr",
     "output_type": "stream",
     "text": [
      "C:\\Users\\ujwal\\Anaconda3\\lib\\site-packages\\ipykernel_launcher.py:6: SettingWithCopyWarning: \n",
      "A value is trying to be set on a copy of a slice from a DataFrame.\n",
      "Try using .loc[row_indexer,col_indexer] = value instead\n",
      "\n",
      "See the caveats in the documentation: http://pandas.pydata.org/pandas-docs/stable/user_guide/indexing.html#returning-a-view-versus-a-copy\n",
      "  \n"
     ]
    }
   ],
   "source": [
    "data['condition'] = pd.np.where(data.condition.str.contains(\"like new\"), \"5\",\n",
    "            pd.np.where(data.condition.str.contains(\"new\"), \"6\",\n",
    "            pd.np.where(data.condition.str.contains(\"excellent\"), \"4\",\n",
    "            pd.np.where(data.condition.str.contains(\"good\"), \"3\",\n",
    "            pd.np.where(data.condition.str.contains(\"fair\"), \"2\",\n",
    "            pd.np.where(data.condition.str.contains(\"salvage\"), \"1\",\"0\"))))))"
   ]
  },
  {
   "cell_type": "code",
   "execution_count": 11,
   "metadata": {},
   "outputs": [
    {
     "name": "stderr",
     "output_type": "stream",
     "text": [
      "C:\\Users\\ujwal\\Anaconda3\\lib\\site-packages\\ipykernel_launcher.py:4: SettingWithCopyWarning: \n",
      "A value is trying to be set on a copy of a slice from a DataFrame.\n",
      "Try using .loc[row_indexer,col_indexer] = value instead\n",
      "\n",
      "See the caveats in the documentation: http://pandas.pydata.org/pandas-docs/stable/user_guide/indexing.html#returning-a-view-versus-a-copy\n",
      "  after removing the cwd from sys.path.\n"
     ]
    }
   ],
   "source": [
    "data['title_status'] = pd.np.where(data.title_status.str.contains(\"clean\"), \"4\",\n",
    "            pd.np.where(data.title_status.str.contains(\"lien\"), \"3\",\n",
    "            pd.np.where(data.title_status.str.contains(\"rebuilt\"), \"2\",\n",
    "            pd.np.where(data.title_status.str.contains(\"salvage\"), \"1\", \"0\"))))"
   ]
  },
  {
   "cell_type": "code",
   "execution_count": 12,
   "metadata": {},
   "outputs": [
    {
     "name": "stderr",
     "output_type": "stream",
     "text": [
      "C:\\Users\\ujwal\\Anaconda3\\lib\\site-packages\\ipykernel_launcher.py:4: SettingWithCopyWarning: \n",
      "A value is trying to be set on a copy of a slice from a DataFrame.\n",
      "Try using .loc[row_indexer,col_indexer] = value instead\n",
      "\n",
      "See the caveats in the documentation: http://pandas.pydata.org/pandas-docs/stable/user_guide/indexing.html#returning-a-view-versus-a-copy\n",
      "  after removing the cwd from sys.path.\n"
     ]
    }
   ],
   "source": [
    "data['size'] = pd.np.where(data['size'].str.contains(\"full-size\"), \"4\",\n",
    "            pd.np.where(data['size'].str.contains(\"mid-size\"), \"3\",\n",
    "            pd.np.where(data['size'].str.contains(\"sub-compact\"), \"1\",\n",
    "            pd.np.where(data['size'].str.contains(\"compact\"), \"2\", \"0\"))))"
   ]
  },
  {
   "cell_type": "code",
   "execution_count": 13,
   "metadata": {},
   "outputs": [
    {
     "name": "stderr",
     "output_type": "stream",
     "text": [
      "C:\\Users\\ujwal\\Anaconda3\\lib\\site-packages\\ipykernel_launcher.py:1: SettingWithCopyWarning: \n",
      "A value is trying to be set on a copy of a slice from a DataFrame.\n",
      "Try using .loc[row_indexer,col_indexer] = value instead\n",
      "\n",
      "See the caveats in the documentation: http://pandas.pydata.org/pandas-docs/stable/user_guide/indexing.html#returning-a-view-versus-a-copy\n",
      "  \"\"\"Entry point for launching an IPython kernel.\n",
      "C:\\Users\\ujwal\\Anaconda3\\lib\\site-packages\\ipykernel_launcher.py:2: SettingWithCopyWarning: \n",
      "A value is trying to be set on a copy of a slice from a DataFrame.\n",
      "Try using .loc[row_indexer,col_indexer] = value instead\n",
      "\n",
      "See the caveats in the documentation: http://pandas.pydata.org/pandas-docs/stable/user_guide/indexing.html#returning-a-view-versus-a-copy\n",
      "  \n",
      "C:\\Users\\ujwal\\Anaconda3\\lib\\site-packages\\ipykernel_launcher.py:3: SettingWithCopyWarning: \n",
      "A value is trying to be set on a copy of a slice from a DataFrame.\n",
      "Try using .loc[row_indexer,col_indexer] = value instead\n",
      "\n",
      "See the caveats in the documentation: http://pandas.pydata.org/pandas-docs/stable/user_guide/indexing.html#returning-a-view-versus-a-copy\n",
      "  This is separate from the ipykernel package so we can avoid doing imports until\n"
     ]
    }
   ],
   "source": [
    "data['fuel'] = LabelEncoder().fit_transform(data['fuel'])\n",
    "data['transmission'] = LabelEncoder().fit_transform(data['transmission'])\n",
    "data['drive'] = LabelEncoder().fit_transform(data['drive'])"
   ]
  },
  {
   "cell_type": "code",
   "execution_count": 14,
   "metadata": {},
   "outputs": [
    {
     "data": {
      "text/plain": [
       "Index(['price', 'condition', 'fuel', 'odometer', 'title_status',\n",
       "       'transmission', 'drive', 'size', 'lat', 'long'],\n",
       "      dtype='object')"
      ]
     },
     "execution_count": 14,
     "metadata": {},
     "output_type": "execute_result"
    }
   ],
   "source": [
    "data.columns"
   ]
  },
  {
   "cell_type": "code",
   "execution_count": 15,
   "metadata": {},
   "outputs": [],
   "source": [
    "oneHot_columns = ['fuel', 'transmission', 'drive']"
   ]
  },
  {
   "cell_type": "code",
   "execution_count": 16,
   "metadata": {},
   "outputs": [],
   "source": [
    "fdata = pd.get_dummies(data, prefix_sep=\"_\", columns=oneHot_columns)"
   ]
  },
  {
   "cell_type": "code",
   "execution_count": 17,
   "metadata": {},
   "outputs": [
    {
     "data": {
      "text/plain": [
       "Index(['price', 'condition', 'fuel', 'odometer', 'title_status',\n",
       "       'transmission', 'drive', 'size', 'lat', 'long'],\n",
       "      dtype='object')"
      ]
     },
     "execution_count": 17,
     "metadata": {},
     "output_type": "execute_result"
    }
   ],
   "source": [
    "data.columns"
   ]
  },
  {
   "cell_type": "code",
   "execution_count": 18,
   "metadata": {},
   "outputs": [
    {
     "data": {
      "text/plain": [
       "Index(['price', 'condition', 'odometer', 'title_status', 'size', 'lat', 'long',\n",
       "       'fuel_0', 'fuel_1', 'fuel_2', 'fuel_3', 'transmission_0',\n",
       "       'transmission_1', 'transmission_2', 'drive_0', 'drive_1', 'drive_2'],\n",
       "      dtype='object')"
      ]
     },
     "execution_count": 18,
     "metadata": {},
     "output_type": "execute_result"
    }
   ],
   "source": [
    "fdata.columns"
   ]
  },
  {
   "cell_type": "code",
   "execution_count": 19,
   "metadata": {},
   "outputs": [],
   "source": [
    "fdata = fdata[fdata.columns]"
   ]
  },
  {
   "cell_type": "code",
   "execution_count": 20,
   "metadata": {},
   "outputs": [
    {
     "data": {
      "text/html": [
       "<div>\n",
       "<style scoped>\n",
       "    .dataframe tbody tr th:only-of-type {\n",
       "        vertical-align: middle;\n",
       "    }\n",
       "\n",
       "    .dataframe tbody tr th {\n",
       "        vertical-align: top;\n",
       "    }\n",
       "\n",
       "    .dataframe thead th {\n",
       "        text-align: right;\n",
       "    }\n",
       "</style>\n",
       "<table border=\"1\" class=\"dataframe\">\n",
       "  <thead>\n",
       "    <tr style=\"text-align: right;\">\n",
       "      <th></th>\n",
       "      <th>price</th>\n",
       "      <th>condition</th>\n",
       "      <th>odometer</th>\n",
       "      <th>title_status</th>\n",
       "      <th>size</th>\n",
       "      <th>lat</th>\n",
       "      <th>long</th>\n",
       "      <th>fuel_0</th>\n",
       "      <th>fuel_1</th>\n",
       "      <th>fuel_2</th>\n",
       "      <th>fuel_3</th>\n",
       "      <th>transmission_0</th>\n",
       "      <th>transmission_1</th>\n",
       "      <th>transmission_2</th>\n",
       "      <th>drive_0</th>\n",
       "      <th>drive_1</th>\n",
       "      <th>drive_2</th>\n",
       "    </tr>\n",
       "  </thead>\n",
       "  <tbody>\n",
       "    <tr>\n",
       "      <td>0</td>\n",
       "      <td>16500</td>\n",
       "      <td>4</td>\n",
       "      <td>109870.0</td>\n",
       "      <td>4</td>\n",
       "      <td>4</td>\n",
       "      <td>40.6260</td>\n",
       "      <td>-122.3670</td>\n",
       "      <td>0</td>\n",
       "      <td>1</td>\n",
       "      <td>0</td>\n",
       "      <td>0</td>\n",
       "      <td>1</td>\n",
       "      <td>0</td>\n",
       "      <td>0</td>\n",
       "      <td>1</td>\n",
       "      <td>0</td>\n",
       "      <td>0</td>\n",
       "    </tr>\n",
       "    <tr>\n",
       "      <td>1</td>\n",
       "      <td>6400</td>\n",
       "      <td>4</td>\n",
       "      <td>107000.0</td>\n",
       "      <td>4</td>\n",
       "      <td>4</td>\n",
       "      <td>39.7647</td>\n",
       "      <td>-75.5069</td>\n",
       "      <td>0</td>\n",
       "      <td>1</td>\n",
       "      <td>0</td>\n",
       "      <td>0</td>\n",
       "      <td>1</td>\n",
       "      <td>0</td>\n",
       "      <td>0</td>\n",
       "      <td>0</td>\n",
       "      <td>1</td>\n",
       "      <td>0</td>\n",
       "    </tr>\n",
       "    <tr>\n",
       "      <td>2</td>\n",
       "      <td>22890</td>\n",
       "      <td>4</td>\n",
       "      <td>99712.0</td>\n",
       "      <td>4</td>\n",
       "      <td>4</td>\n",
       "      <td>43.1550</td>\n",
       "      <td>-75.9513</td>\n",
       "      <td>0</td>\n",
       "      <td>1</td>\n",
       "      <td>0</td>\n",
       "      <td>0</td>\n",
       "      <td>1</td>\n",
       "      <td>0</td>\n",
       "      <td>0</td>\n",
       "      <td>1</td>\n",
       "      <td>0</td>\n",
       "      <td>0</td>\n",
       "    </tr>\n",
       "    <tr>\n",
       "      <td>3</td>\n",
       "      <td>5000</td>\n",
       "      <td>5</td>\n",
       "      <td>293000.0</td>\n",
       "      <td>4</td>\n",
       "      <td>3</td>\n",
       "      <td>40.2874</td>\n",
       "      <td>-84.1622</td>\n",
       "      <td>0</td>\n",
       "      <td>1</td>\n",
       "      <td>0</td>\n",
       "      <td>0</td>\n",
       "      <td>1</td>\n",
       "      <td>0</td>\n",
       "      <td>0</td>\n",
       "      <td>0</td>\n",
       "      <td>1</td>\n",
       "      <td>0</td>\n",
       "    </tr>\n",
       "    <tr>\n",
       "      <td>4</td>\n",
       "      <td>0</td>\n",
       "      <td>4</td>\n",
       "      <td>145001.0</td>\n",
       "      <td>4</td>\n",
       "      <td>4</td>\n",
       "      <td>35.7200</td>\n",
       "      <td>-96.9539</td>\n",
       "      <td>0</td>\n",
       "      <td>1</td>\n",
       "      <td>0</td>\n",
       "      <td>0</td>\n",
       "      <td>1</td>\n",
       "      <td>0</td>\n",
       "      <td>0</td>\n",
       "      <td>1</td>\n",
       "      <td>0</td>\n",
       "      <td>0</td>\n",
       "    </tr>\n",
       "    <tr>\n",
       "      <td>...</td>\n",
       "      <td>...</td>\n",
       "      <td>...</td>\n",
       "      <td>...</td>\n",
       "      <td>...</td>\n",
       "      <td>...</td>\n",
       "      <td>...</td>\n",
       "      <td>...</td>\n",
       "      <td>...</td>\n",
       "      <td>...</td>\n",
       "      <td>...</td>\n",
       "      <td>...</td>\n",
       "      <td>...</td>\n",
       "      <td>...</td>\n",
       "      <td>...</td>\n",
       "      <td>...</td>\n",
       "      <td>...</td>\n",
       "      <td>...</td>\n",
       "    </tr>\n",
       "    <tr>\n",
       "      <td>495</td>\n",
       "      <td>1700</td>\n",
       "      <td>3</td>\n",
       "      <td>170000.0</td>\n",
       "      <td>4</td>\n",
       "      <td>3</td>\n",
       "      <td>41.2613</td>\n",
       "      <td>-95.8676</td>\n",
       "      <td>0</td>\n",
       "      <td>1</td>\n",
       "      <td>0</td>\n",
       "      <td>0</td>\n",
       "      <td>1</td>\n",
       "      <td>0</td>\n",
       "      <td>0</td>\n",
       "      <td>0</td>\n",
       "      <td>1</td>\n",
       "      <td>0</td>\n",
       "    </tr>\n",
       "    <tr>\n",
       "      <td>496</td>\n",
       "      <td>3995</td>\n",
       "      <td>3</td>\n",
       "      <td>130000.0</td>\n",
       "      <td>2</td>\n",
       "      <td>4</td>\n",
       "      <td>41.6122</td>\n",
       "      <td>-93.5296</td>\n",
       "      <td>0</td>\n",
       "      <td>0</td>\n",
       "      <td>0</td>\n",
       "      <td>1</td>\n",
       "      <td>1</td>\n",
       "      <td>0</td>\n",
       "      <td>0</td>\n",
       "      <td>0</td>\n",
       "      <td>1</td>\n",
       "      <td>0</td>\n",
       "    </tr>\n",
       "    <tr>\n",
       "      <td>497</td>\n",
       "      <td>6500</td>\n",
       "      <td>3</td>\n",
       "      <td>161000.0</td>\n",
       "      <td>4</td>\n",
       "      <td>4</td>\n",
       "      <td>35.2054</td>\n",
       "      <td>-89.8036</td>\n",
       "      <td>0</td>\n",
       "      <td>1</td>\n",
       "      <td>0</td>\n",
       "      <td>0</td>\n",
       "      <td>1</td>\n",
       "      <td>0</td>\n",
       "      <td>0</td>\n",
       "      <td>0</td>\n",
       "      <td>0</td>\n",
       "      <td>1</td>\n",
       "    </tr>\n",
       "    <tr>\n",
       "      <td>498</td>\n",
       "      <td>1</td>\n",
       "      <td>4</td>\n",
       "      <td>51550.0</td>\n",
       "      <td>4</td>\n",
       "      <td>3</td>\n",
       "      <td>28.4661</td>\n",
       "      <td>-81.3964</td>\n",
       "      <td>0</td>\n",
       "      <td>1</td>\n",
       "      <td>0</td>\n",
       "      <td>0</td>\n",
       "      <td>0</td>\n",
       "      <td>1</td>\n",
       "      <td>0</td>\n",
       "      <td>1</td>\n",
       "      <td>0</td>\n",
       "      <td>0</td>\n",
       "    </tr>\n",
       "    <tr>\n",
       "      <td>499</td>\n",
       "      <td>23244</td>\n",
       "      <td>3</td>\n",
       "      <td>88651.0</td>\n",
       "      <td>4</td>\n",
       "      <td>4</td>\n",
       "      <td>39.0929</td>\n",
       "      <td>-75.5476</td>\n",
       "      <td>0</td>\n",
       "      <td>1</td>\n",
       "      <td>0</td>\n",
       "      <td>0</td>\n",
       "      <td>0</td>\n",
       "      <td>1</td>\n",
       "      <td>0</td>\n",
       "      <td>1</td>\n",
       "      <td>0</td>\n",
       "      <td>0</td>\n",
       "    </tr>\n",
       "  </tbody>\n",
       "</table>\n",
       "<p>500 rows × 17 columns</p>\n",
       "</div>"
      ],
      "text/plain": [
       "     price condition  odometer title_status size      lat      long  fuel_0  \\\n",
       "0    16500         4  109870.0            4    4  40.6260 -122.3670       0   \n",
       "1     6400         4  107000.0            4    4  39.7647  -75.5069       0   \n",
       "2    22890         4   99712.0            4    4  43.1550  -75.9513       0   \n",
       "3     5000         5  293000.0            4    3  40.2874  -84.1622       0   \n",
       "4        0         4  145001.0            4    4  35.7200  -96.9539       0   \n",
       "..     ...       ...       ...          ...  ...      ...       ...     ...   \n",
       "495   1700         3  170000.0            4    3  41.2613  -95.8676       0   \n",
       "496   3995         3  130000.0            2    4  41.6122  -93.5296       0   \n",
       "497   6500         3  161000.0            4    4  35.2054  -89.8036       0   \n",
       "498      1         4   51550.0            4    3  28.4661  -81.3964       0   \n",
       "499  23244         3   88651.0            4    4  39.0929  -75.5476       0   \n",
       "\n",
       "     fuel_1  fuel_2  fuel_3  transmission_0  transmission_1  transmission_2  \\\n",
       "0         1       0       0               1               0               0   \n",
       "1         1       0       0               1               0               0   \n",
       "2         1       0       0               1               0               0   \n",
       "3         1       0       0               1               0               0   \n",
       "4         1       0       0               1               0               0   \n",
       "..      ...     ...     ...             ...             ...             ...   \n",
       "495       1       0       0               1               0               0   \n",
       "496       0       0       1               1               0               0   \n",
       "497       1       0       0               1               0               0   \n",
       "498       1       0       0               0               1               0   \n",
       "499       1       0       0               0               1               0   \n",
       "\n",
       "     drive_0  drive_1  drive_2  \n",
       "0          1        0        0  \n",
       "1          0        1        0  \n",
       "2          1        0        0  \n",
       "3          0        1        0  \n",
       "4          1        0        0  \n",
       "..       ...      ...      ...  \n",
       "495        0        1        0  \n",
       "496        0        1        0  \n",
       "497        0        0        1  \n",
       "498        1        0        0  \n",
       "499        1        0        0  \n",
       "\n",
       "[500 rows x 17 columns]"
      ]
     },
     "execution_count": 20,
     "metadata": {},
     "output_type": "execute_result"
    }
   ],
   "source": [
    "fdata"
   ]
  },
  {
   "cell_type": "code",
   "execution_count": 21,
   "metadata": {},
   "outputs": [],
   "source": [
    "from sklearn.preprocessing import MinMaxScaler"
   ]
  },
  {
   "cell_type": "code",
   "execution_count": 22,
   "metadata": {},
   "outputs": [
    {
     "data": {
      "text/plain": [
       "price               int64\n",
       "condition          object\n",
       "odometer          float64\n",
       "title_status       object\n",
       "size               object\n",
       "lat               float64\n",
       "long              float64\n",
       "fuel_0              uint8\n",
       "fuel_1              uint8\n",
       "fuel_2              uint8\n",
       "fuel_3              uint8\n",
       "transmission_0      uint8\n",
       "transmission_1      uint8\n",
       "transmission_2      uint8\n",
       "drive_0             uint8\n",
       "drive_1             uint8\n",
       "drive_2             uint8\n",
       "dtype: object"
      ]
     },
     "execution_count": 22,
     "metadata": {},
     "output_type": "execute_result"
    }
   ],
   "source": [
    "fdata.dtypes"
   ]
  },
  {
   "cell_type": "code",
   "execution_count": 23,
   "metadata": {},
   "outputs": [],
   "source": [
    "fdata['price'] = fdata['price'].astype(float)\n",
    "fdata['condition'] = fdata['condition'].astype(float)\n",
    "fdata['title_status'] = fdata['title_status'].astype(float)\n",
    "fdata['size'] = fdata['size'].astype(float)"
   ]
  },
  {
   "cell_type": "code",
   "execution_count": 24,
   "metadata": {},
   "outputs": [
    {
     "data": {
      "text/plain": [
       "Index(['price', 'condition', 'odometer', 'title_status', 'size', 'lat', 'long',\n",
       "       'fuel_0', 'fuel_1', 'fuel_2', 'fuel_3', 'transmission_0',\n",
       "       'transmission_1', 'transmission_2', 'drive_0', 'drive_1', 'drive_2'],\n",
       "      dtype='object')"
      ]
     },
     "execution_count": 24,
     "metadata": {},
     "output_type": "execute_result"
    }
   ],
   "source": [
    "fdata.columns"
   ]
  },
  {
   "cell_type": "code",
   "execution_count": 25,
   "metadata": {},
   "outputs": [],
   "source": [
    "scaler = MinMaxScaler()\n",
    "scaledData = pd.DataFrame(scaler.fit_transform(fdata), columns=fdata.columns)"
   ]
  },
  {
   "cell_type": "code",
   "execution_count": 26,
   "metadata": {},
   "outputs": [
    {
     "data": {
      "text/html": [
       "<div>\n",
       "<style scoped>\n",
       "    .dataframe tbody tr th:only-of-type {\n",
       "        vertical-align: middle;\n",
       "    }\n",
       "\n",
       "    .dataframe tbody tr th {\n",
       "        vertical-align: top;\n",
       "    }\n",
       "\n",
       "    .dataframe thead th {\n",
       "        text-align: right;\n",
       "    }\n",
       "</style>\n",
       "<table border=\"1\" class=\"dataframe\">\n",
       "  <thead>\n",
       "    <tr style=\"text-align: right;\">\n",
       "      <th></th>\n",
       "      <th>price</th>\n",
       "      <th>condition</th>\n",
       "      <th>odometer</th>\n",
       "      <th>title_status</th>\n",
       "      <th>size</th>\n",
       "      <th>lat</th>\n",
       "      <th>long</th>\n",
       "      <th>fuel_0</th>\n",
       "      <th>fuel_1</th>\n",
       "      <th>fuel_2</th>\n",
       "      <th>fuel_3</th>\n",
       "      <th>transmission_0</th>\n",
       "      <th>transmission_1</th>\n",
       "      <th>transmission_2</th>\n",
       "      <th>drive_0</th>\n",
       "      <th>drive_1</th>\n",
       "      <th>drive_2</th>\n",
       "    </tr>\n",
       "  </thead>\n",
       "  <tbody>\n",
       "    <tr>\n",
       "      <td>0</td>\n",
       "      <td>0.351101</td>\n",
       "      <td>0.6</td>\n",
       "      <td>0.061552</td>\n",
       "      <td>1.000000</td>\n",
       "      <td>1.000000</td>\n",
       "      <td>0.716904</td>\n",
       "      <td>0.384496</td>\n",
       "      <td>0.0</td>\n",
       "      <td>1.0</td>\n",
       "      <td>0.0</td>\n",
       "      <td>0.0</td>\n",
       "      <td>1.0</td>\n",
       "      <td>0.0</td>\n",
       "      <td>0.0</td>\n",
       "      <td>1.0</td>\n",
       "      <td>0.0</td>\n",
       "      <td>0.0</td>\n",
       "    </tr>\n",
       "    <tr>\n",
       "      <td>1</td>\n",
       "      <td>0.136185</td>\n",
       "      <td>0.6</td>\n",
       "      <td>0.059944</td>\n",
       "      <td>1.000000</td>\n",
       "      <td>1.000000</td>\n",
       "      <td>0.687623</td>\n",
       "      <td>0.924233</td>\n",
       "      <td>0.0</td>\n",
       "      <td>1.0</td>\n",
       "      <td>0.0</td>\n",
       "      <td>0.0</td>\n",
       "      <td>1.0</td>\n",
       "      <td>0.0</td>\n",
       "      <td>0.0</td>\n",
       "      <td>0.0</td>\n",
       "      <td>1.0</td>\n",
       "      <td>0.0</td>\n",
       "    </tr>\n",
       "    <tr>\n",
       "      <td>2</td>\n",
       "      <td>0.487073</td>\n",
       "      <td>0.6</td>\n",
       "      <td>0.055861</td>\n",
       "      <td>1.000000</td>\n",
       "      <td>1.000000</td>\n",
       "      <td>0.802880</td>\n",
       "      <td>0.919114</td>\n",
       "      <td>0.0</td>\n",
       "      <td>1.0</td>\n",
       "      <td>0.0</td>\n",
       "      <td>0.0</td>\n",
       "      <td>1.0</td>\n",
       "      <td>0.0</td>\n",
       "      <td>0.0</td>\n",
       "      <td>1.0</td>\n",
       "      <td>0.0</td>\n",
       "      <td>0.0</td>\n",
       "    </tr>\n",
       "    <tr>\n",
       "      <td>3</td>\n",
       "      <td>0.106394</td>\n",
       "      <td>0.8</td>\n",
       "      <td>0.164146</td>\n",
       "      <td>1.000000</td>\n",
       "      <td>0.666667</td>\n",
       "      <td>0.705393</td>\n",
       "      <td>0.824541</td>\n",
       "      <td>0.0</td>\n",
       "      <td>1.0</td>\n",
       "      <td>0.0</td>\n",
       "      <td>0.0</td>\n",
       "      <td>1.0</td>\n",
       "      <td>0.0</td>\n",
       "      <td>0.0</td>\n",
       "      <td>0.0</td>\n",
       "      <td>1.0</td>\n",
       "      <td>0.0</td>\n",
       "    </tr>\n",
       "    <tr>\n",
       "      <td>4</td>\n",
       "      <td>0.000000</td>\n",
       "      <td>0.6</td>\n",
       "      <td>0.081233</td>\n",
       "      <td>1.000000</td>\n",
       "      <td>1.000000</td>\n",
       "      <td>0.550119</td>\n",
       "      <td>0.677205</td>\n",
       "      <td>0.0</td>\n",
       "      <td>1.0</td>\n",
       "      <td>0.0</td>\n",
       "      <td>0.0</td>\n",
       "      <td>1.0</td>\n",
       "      <td>0.0</td>\n",
       "      <td>0.0</td>\n",
       "      <td>1.0</td>\n",
       "      <td>0.0</td>\n",
       "      <td>0.0</td>\n",
       "    </tr>\n",
       "    <tr>\n",
       "      <td>...</td>\n",
       "      <td>...</td>\n",
       "      <td>...</td>\n",
       "      <td>...</td>\n",
       "      <td>...</td>\n",
       "      <td>...</td>\n",
       "      <td>...</td>\n",
       "      <td>...</td>\n",
       "      <td>...</td>\n",
       "      <td>...</td>\n",
       "      <td>...</td>\n",
       "      <td>...</td>\n",
       "      <td>...</td>\n",
       "      <td>...</td>\n",
       "      <td>...</td>\n",
       "      <td>...</td>\n",
       "      <td>...</td>\n",
       "      <td>...</td>\n",
       "    </tr>\n",
       "    <tr>\n",
       "      <td>495</td>\n",
       "      <td>0.036174</td>\n",
       "      <td>0.4</td>\n",
       "      <td>0.095238</td>\n",
       "      <td>1.000000</td>\n",
       "      <td>0.666667</td>\n",
       "      <td>0.738502</td>\n",
       "      <td>0.689717</td>\n",
       "      <td>0.0</td>\n",
       "      <td>1.0</td>\n",
       "      <td>0.0</td>\n",
       "      <td>0.0</td>\n",
       "      <td>1.0</td>\n",
       "      <td>0.0</td>\n",
       "      <td>0.0</td>\n",
       "      <td>0.0</td>\n",
       "      <td>1.0</td>\n",
       "      <td>0.0</td>\n",
       "    </tr>\n",
       "    <tr>\n",
       "      <td>496</td>\n",
       "      <td>0.085009</td>\n",
       "      <td>0.4</td>\n",
       "      <td>0.072829</td>\n",
       "      <td>0.333333</td>\n",
       "      <td>1.000000</td>\n",
       "      <td>0.750431</td>\n",
       "      <td>0.716647</td>\n",
       "      <td>0.0</td>\n",
       "      <td>0.0</td>\n",
       "      <td>0.0</td>\n",
       "      <td>1.0</td>\n",
       "      <td>1.0</td>\n",
       "      <td>0.0</td>\n",
       "      <td>0.0</td>\n",
       "      <td>0.0</td>\n",
       "      <td>1.0</td>\n",
       "      <td>0.0</td>\n",
       "    </tr>\n",
       "    <tr>\n",
       "      <td>497</td>\n",
       "      <td>0.138313</td>\n",
       "      <td>0.4</td>\n",
       "      <td>0.090196</td>\n",
       "      <td>1.000000</td>\n",
       "      <td>1.000000</td>\n",
       "      <td>0.532624</td>\n",
       "      <td>0.759563</td>\n",
       "      <td>0.0</td>\n",
       "      <td>1.0</td>\n",
       "      <td>0.0</td>\n",
       "      <td>0.0</td>\n",
       "      <td>1.0</td>\n",
       "      <td>0.0</td>\n",
       "      <td>0.0</td>\n",
       "      <td>0.0</td>\n",
       "      <td>0.0</td>\n",
       "      <td>1.0</td>\n",
       "    </tr>\n",
       "    <tr>\n",
       "      <td>498</td>\n",
       "      <td>0.000021</td>\n",
       "      <td>0.6</td>\n",
       "      <td>0.028880</td>\n",
       "      <td>1.000000</td>\n",
       "      <td>0.666667</td>\n",
       "      <td>0.303514</td>\n",
       "      <td>0.856397</td>\n",
       "      <td>0.0</td>\n",
       "      <td>1.0</td>\n",
       "      <td>0.0</td>\n",
       "      <td>0.0</td>\n",
       "      <td>0.0</td>\n",
       "      <td>1.0</td>\n",
       "      <td>0.0</td>\n",
       "      <td>1.0</td>\n",
       "      <td>0.0</td>\n",
       "      <td>0.0</td>\n",
       "    </tr>\n",
       "    <tr>\n",
       "      <td>499</td>\n",
       "      <td>0.494606</td>\n",
       "      <td>0.4</td>\n",
       "      <td>0.049664</td>\n",
       "      <td>1.000000</td>\n",
       "      <td>1.000000</td>\n",
       "      <td>0.664784</td>\n",
       "      <td>0.923764</td>\n",
       "      <td>0.0</td>\n",
       "      <td>1.0</td>\n",
       "      <td>0.0</td>\n",
       "      <td>0.0</td>\n",
       "      <td>0.0</td>\n",
       "      <td>1.0</td>\n",
       "      <td>0.0</td>\n",
       "      <td>1.0</td>\n",
       "      <td>0.0</td>\n",
       "      <td>0.0</td>\n",
       "    </tr>\n",
       "  </tbody>\n",
       "</table>\n",
       "<p>500 rows × 17 columns</p>\n",
       "</div>"
      ],
      "text/plain": [
       "        price  condition  odometer  title_status      size       lat  \\\n",
       "0    0.351101        0.6  0.061552      1.000000  1.000000  0.716904   \n",
       "1    0.136185        0.6  0.059944      1.000000  1.000000  0.687623   \n",
       "2    0.487073        0.6  0.055861      1.000000  1.000000  0.802880   \n",
       "3    0.106394        0.8  0.164146      1.000000  0.666667  0.705393   \n",
       "4    0.000000        0.6  0.081233      1.000000  1.000000  0.550119   \n",
       "..        ...        ...       ...           ...       ...       ...   \n",
       "495  0.036174        0.4  0.095238      1.000000  0.666667  0.738502   \n",
       "496  0.085009        0.4  0.072829      0.333333  1.000000  0.750431   \n",
       "497  0.138313        0.4  0.090196      1.000000  1.000000  0.532624   \n",
       "498  0.000021        0.6  0.028880      1.000000  0.666667  0.303514   \n",
       "499  0.494606        0.4  0.049664      1.000000  1.000000  0.664784   \n",
       "\n",
       "         long  fuel_0  fuel_1  fuel_2  fuel_3  transmission_0  transmission_1  \\\n",
       "0    0.384496     0.0     1.0     0.0     0.0             1.0             0.0   \n",
       "1    0.924233     0.0     1.0     0.0     0.0             1.0             0.0   \n",
       "2    0.919114     0.0     1.0     0.0     0.0             1.0             0.0   \n",
       "3    0.824541     0.0     1.0     0.0     0.0             1.0             0.0   \n",
       "4    0.677205     0.0     1.0     0.0     0.0             1.0             0.0   \n",
       "..        ...     ...     ...     ...     ...             ...             ...   \n",
       "495  0.689717     0.0     1.0     0.0     0.0             1.0             0.0   \n",
       "496  0.716647     0.0     0.0     0.0     1.0             1.0             0.0   \n",
       "497  0.759563     0.0     1.0     0.0     0.0             1.0             0.0   \n",
       "498  0.856397     0.0     1.0     0.0     0.0             0.0             1.0   \n",
       "499  0.923764     0.0     1.0     0.0     0.0             0.0             1.0   \n",
       "\n",
       "     transmission_2  drive_0  drive_1  drive_2  \n",
       "0               0.0      1.0      0.0      0.0  \n",
       "1               0.0      0.0      1.0      0.0  \n",
       "2               0.0      1.0      0.0      0.0  \n",
       "3               0.0      0.0      1.0      0.0  \n",
       "4               0.0      1.0      0.0      0.0  \n",
       "..              ...      ...      ...      ...  \n",
       "495             0.0      0.0      1.0      0.0  \n",
       "496             0.0      0.0      1.0      0.0  \n",
       "497             0.0      0.0      0.0      1.0  \n",
       "498             0.0      1.0      0.0      0.0  \n",
       "499             0.0      1.0      0.0      0.0  \n",
       "\n",
       "[500 rows x 17 columns]"
      ]
     },
     "execution_count": 26,
     "metadata": {},
     "output_type": "execute_result"
    }
   ],
   "source": [
    "scaledData"
   ]
  },
  {
   "cell_type": "code",
   "execution_count": 27,
   "metadata": {},
   "outputs": [],
   "source": [
    "scaledData1 = scaledData.copy()"
   ]
  },
  {
   "cell_type": "code",
   "execution_count": 28,
   "metadata": {},
   "outputs": [],
   "source": [
    "from sklearn.cluster import KMeans"
   ]
  },
  {
   "cell_type": "code",
   "execution_count": 29,
   "metadata": {},
   "outputs": [],
   "source": [
    "Sum_of_squared_distances = []\n",
    "K = range(1,15)\n",
    "for k in K:\n",
    "    km = KMeans(n_clusters=k)\n",
    "    km = km.fit(scaledData)\n",
    "    Sum_of_squared_distances.append(km.inertia_)"
   ]
  },
  {
   "cell_type": "code",
   "execution_count": 30,
   "metadata": {},
   "outputs": [],
   "source": [
    "knee = KneeLocator(range(1, 15), Sum_of_squared_distances, curve='convex', direction='decreasing')"
   ]
  },
  {
   "cell_type": "code",
   "execution_count": 31,
   "metadata": {},
   "outputs": [
    {
     "data": {
      "text/plain": [
       "4"
      ]
     },
     "execution_count": 31,
     "metadata": {},
     "output_type": "execute_result"
    }
   ],
   "source": [
    "knee.knee"
   ]
  },
  {
   "cell_type": "code",
   "execution_count": 32,
   "metadata": {},
   "outputs": [],
   "source": [
    "import matplotlib.pyplot as plt"
   ]
  },
  {
   "cell_type": "code",
   "execution_count": 168,
   "metadata": {},
   "outputs": [
    {
     "data": {
      "image/png": "[encoded data removed]",
      "text/plain": [
       "<Figure size 432x288 with 1 Axes>"
      ]
     },
     "metadata": {
      "needs_background": "light"
     },
     "output_type": "display_data"
    }
   ],
   "source": [
    "plt.plot(K, Sum_of_squared_distances, 'bx-')\n",
    "plt.xlabel('k')\n",
    "plt.ylabel('Sum of squared distances')\n",
    "plt.title('Elbow Method')\n",
    "plt.show()"
   ]
  },
  {
   "cell_type": "markdown",
   "metadata": {},
   "source": [
    "k=4"
   ]
  },
  {
   "cell_type": "code",
   "execution_count": 34,
   "metadata": {},
   "outputs": [],
   "source": [
    "kmeans = KMeans(n_clusters = 4)\n",
    "kmeans = kmeans.fit(scaledData)"
   ]
  },
  {
   "cell_type": "code",
   "execution_count": 35,
   "metadata": {},
   "outputs": [],
   "source": [
    "labels = kmeans.labels_"
   ]
  },
  {
   "cell_type": "code",
   "execution_count": 36,
   "metadata": {},
   "outputs": [],
   "source": [
    "scaledData['kvalue'] = kmeans.labels_"
   ]
  },
  {
   "cell_type": "code",
   "execution_count": 37,
   "metadata": {},
   "outputs": [],
   "source": [
    "count = len(scaledData)/4"
   ]
  },
  {
   "cell_type": "code",
   "execution_count": 38,
   "metadata": {},
   "outputs": [],
   "source": [
    "import math"
   ]
  },
  {
   "cell_type": "code",
   "execution_count": 39,
   "metadata": {},
   "outputs": [],
   "source": [
    "datacount = math.floor(count/len(scaledData['kvalue'].value_counts()))"
   ]
  },
  {
   "cell_type": "code",
   "execution_count": 40,
   "metadata": {},
   "outputs": [
    {
     "data": {
      "text/plain": [
       "1    228\n",
       "0    142\n",
       "2     98\n",
       "3     32\n",
       "Name: kvalue, dtype: int64"
      ]
     },
     "execution_count": 40,
     "metadata": {},
     "output_type": "execute_result"
    }
   ],
   "source": [
    "scaledData['kvalue'].value_counts()"
   ]
  },
  {
   "cell_type": "code",
   "execution_count": 41,
   "metadata": {},
   "outputs": [
    {
     "data": {
      "text/plain": [
       "(98, 18)"
      ]
     },
     "execution_count": 41,
     "metadata": {},
     "output_type": "execute_result"
    }
   ],
   "source": [
    "scaledData[scaledData['kvalue']==2].shape"
   ]
  },
  {
   "cell_type": "code",
   "execution_count": 42,
   "metadata": {},
   "outputs": [],
   "source": [
    "stratifiedData = pd.DataFrame(columns = scaledData.columns)"
   ]
  },
  {
   "cell_type": "code",
   "execution_count": 43,
   "metadata": {},
   "outputs": [],
   "source": [
    "for i in scaledData.kvalue.unique():\n",
    "    temp = scaledData[scaledData['kvalue']==i]\n",
    "    tempData = temp.sample(n=datacount)\n",
    "    stratifiedData = stratifiedData.append(tempData, ignore_index = True)"
   ]
  },
  {
   "cell_type": "code",
   "execution_count": 44,
   "metadata": {},
   "outputs": [
    {
     "data": {
      "text/plain": [
       "3    31\n",
       "2    31\n",
       "1    31\n",
       "0    31\n",
       "Name: kvalue, dtype: int64"
      ]
     },
     "execution_count": 44,
     "metadata": {},
     "output_type": "execute_result"
    }
   ],
   "source": [
    "stratifiedData['kvalue'].value_counts()"
   ]
  },
  {
   "cell_type": "code",
   "execution_count": null,
   "metadata": {},
   "outputs": [],
   "source": []
  },
  {
   "cell_type": "code",
   "execution_count": null,
   "metadata": {},
   "outputs": [],
   "source": []
  },
  {
   "cell_type": "code",
   "execution_count": 45,
   "metadata": {},
   "outputs": [],
   "source": [
    "from sklearn import decomposition"
   ]
  },
  {
   "cell_type": "code",
   "execution_count": 46,
   "metadata": {},
   "outputs": [],
   "source": [
    "def performPCA(x):\n",
    "    pca = decomposition.PCA(n_components=len(x.columns))\n",
    "    pcs = pca.fit_transform(x)\n",
    "    pccols=[]\n",
    "    for i in range(1,len(x.columns)+1):\n",
    "        pccols.append('PC'+str(i))\n",
    "    pcdf = pd.DataFrame(data = pcs, columns = pccols)\n",
    "    return pca, pccols, pcdf"
   ]
  },
  {
   "cell_type": "code",
   "execution_count": 47,
   "metadata": {},
   "outputs": [],
   "source": [
    "def plotScreePlot(pca, pccols):\n",
    "    percentVariance = np.round(pca.explained_variance_ratio_ *100, decimals = 2)\n",
    "    plt.bar(x= range(1,len(pccols)+1), height=percentVariance, tick_label=pccols)\n",
    "    plt.ylabel('Percentate of Variance Explained')\n",
    "    plt.xlabel('Principal Component')\n",
    "    plt.title('PCA Scree Plot')\n",
    "    plt.show()"
   ]
  },
  {
   "cell_type": "code",
   "execution_count": 48,
   "metadata": {},
   "outputs": [
    {
     "data": {
      "text/html": [
       "<div>\n",
       "<style scoped>\n",
       "    .dataframe tbody tr th:only-of-type {\n",
       "        vertical-align: middle;\n",
       "    }\n",
       "\n",
       "    .dataframe tbody tr th {\n",
       "        vertical-align: top;\n",
       "    }\n",
       "\n",
       "    .dataframe thead th {\n",
       "        text-align: right;\n",
       "    }\n",
       "</style>\n",
       "<table border=\"1\" class=\"dataframe\">\n",
       "  <thead>\n",
       "    <tr style=\"text-align: right;\">\n",
       "      <th></th>\n",
       "      <th>price</th>\n",
       "      <th>condition</th>\n",
       "      <th>odometer</th>\n",
       "      <th>title_status</th>\n",
       "      <th>size</th>\n",
       "      <th>lat</th>\n",
       "      <th>long</th>\n",
       "      <th>fuel_0</th>\n",
       "      <th>fuel_1</th>\n",
       "      <th>fuel_2</th>\n",
       "      <th>fuel_3</th>\n",
       "      <th>transmission_0</th>\n",
       "      <th>transmission_1</th>\n",
       "      <th>transmission_2</th>\n",
       "      <th>drive_0</th>\n",
       "      <th>drive_1</th>\n",
       "      <th>drive_2</th>\n",
       "    </tr>\n",
       "  </thead>\n",
       "  <tbody>\n",
       "    <tr>\n",
       "      <td>0</td>\n",
       "      <td>0.351101</td>\n",
       "      <td>0.6</td>\n",
       "      <td>0.061552</td>\n",
       "      <td>1.000000</td>\n",
       "      <td>1.000000</td>\n",
       "      <td>0.716904</td>\n",
       "      <td>0.384496</td>\n",
       "      <td>0.0</td>\n",
       "      <td>1.0</td>\n",
       "      <td>0.0</td>\n",
       "      <td>0.0</td>\n",
       "      <td>1.0</td>\n",
       "      <td>0.0</td>\n",
       "      <td>0.0</td>\n",
       "      <td>1.0</td>\n",
       "      <td>0.0</td>\n",
       "      <td>0.0</td>\n",
       "    </tr>\n",
       "    <tr>\n",
       "      <td>1</td>\n",
       "      <td>0.136185</td>\n",
       "      <td>0.6</td>\n",
       "      <td>0.059944</td>\n",
       "      <td>1.000000</td>\n",
       "      <td>1.000000</td>\n",
       "      <td>0.687623</td>\n",
       "      <td>0.924233</td>\n",
       "      <td>0.0</td>\n",
       "      <td>1.0</td>\n",
       "      <td>0.0</td>\n",
       "      <td>0.0</td>\n",
       "      <td>1.0</td>\n",
       "      <td>0.0</td>\n",
       "      <td>0.0</td>\n",
       "      <td>0.0</td>\n",
       "      <td>1.0</td>\n",
       "      <td>0.0</td>\n",
       "    </tr>\n",
       "    <tr>\n",
       "      <td>2</td>\n",
       "      <td>0.487073</td>\n",
       "      <td>0.6</td>\n",
       "      <td>0.055861</td>\n",
       "      <td>1.000000</td>\n",
       "      <td>1.000000</td>\n",
       "      <td>0.802880</td>\n",
       "      <td>0.919114</td>\n",
       "      <td>0.0</td>\n",
       "      <td>1.0</td>\n",
       "      <td>0.0</td>\n",
       "      <td>0.0</td>\n",
       "      <td>1.0</td>\n",
       "      <td>0.0</td>\n",
       "      <td>0.0</td>\n",
       "      <td>1.0</td>\n",
       "      <td>0.0</td>\n",
       "      <td>0.0</td>\n",
       "    </tr>\n",
       "    <tr>\n",
       "      <td>3</td>\n",
       "      <td>0.106394</td>\n",
       "      <td>0.8</td>\n",
       "      <td>0.164146</td>\n",
       "      <td>1.000000</td>\n",
       "      <td>0.666667</td>\n",
       "      <td>0.705393</td>\n",
       "      <td>0.824541</td>\n",
       "      <td>0.0</td>\n",
       "      <td>1.0</td>\n",
       "      <td>0.0</td>\n",
       "      <td>0.0</td>\n",
       "      <td>1.0</td>\n",
       "      <td>0.0</td>\n",
       "      <td>0.0</td>\n",
       "      <td>0.0</td>\n",
       "      <td>1.0</td>\n",
       "      <td>0.0</td>\n",
       "    </tr>\n",
       "    <tr>\n",
       "      <td>4</td>\n",
       "      <td>0.000000</td>\n",
       "      <td>0.6</td>\n",
       "      <td>0.081233</td>\n",
       "      <td>1.000000</td>\n",
       "      <td>1.000000</td>\n",
       "      <td>0.550119</td>\n",
       "      <td>0.677205</td>\n",
       "      <td>0.0</td>\n",
       "      <td>1.0</td>\n",
       "      <td>0.0</td>\n",
       "      <td>0.0</td>\n",
       "      <td>1.0</td>\n",
       "      <td>0.0</td>\n",
       "      <td>0.0</td>\n",
       "      <td>1.0</td>\n",
       "      <td>0.0</td>\n",
       "      <td>0.0</td>\n",
       "    </tr>\n",
       "    <tr>\n",
       "      <td>...</td>\n",
       "      <td>...</td>\n",
       "      <td>...</td>\n",
       "      <td>...</td>\n",
       "      <td>...</td>\n",
       "      <td>...</td>\n",
       "      <td>...</td>\n",
       "      <td>...</td>\n",
       "      <td>...</td>\n",
       "      <td>...</td>\n",
       "      <td>...</td>\n",
       "      <td>...</td>\n",
       "      <td>...</td>\n",
       "      <td>...</td>\n",
       "      <td>...</td>\n",
       "      <td>...</td>\n",
       "      <td>...</td>\n",
       "      <td>...</td>\n",
       "    </tr>\n",
       "    <tr>\n",
       "      <td>495</td>\n",
       "      <td>0.036174</td>\n",
       "      <td>0.4</td>\n",
       "      <td>0.095238</td>\n",
       "      <td>1.000000</td>\n",
       "      <td>0.666667</td>\n",
       "      <td>0.738502</td>\n",
       "      <td>0.689717</td>\n",
       "      <td>0.0</td>\n",
       "      <td>1.0</td>\n",
       "      <td>0.0</td>\n",
       "      <td>0.0</td>\n",
       "      <td>1.0</td>\n",
       "      <td>0.0</td>\n",
       "      <td>0.0</td>\n",
       "      <td>0.0</td>\n",
       "      <td>1.0</td>\n",
       "      <td>0.0</td>\n",
       "    </tr>\n",
       "    <tr>\n",
       "      <td>496</td>\n",
       "      <td>0.085009</td>\n",
       "      <td>0.4</td>\n",
       "      <td>0.072829</td>\n",
       "      <td>0.333333</td>\n",
       "      <td>1.000000</td>\n",
       "      <td>0.750431</td>\n",
       "      <td>0.716647</td>\n",
       "      <td>0.0</td>\n",
       "      <td>0.0</td>\n",
       "      <td>0.0</td>\n",
       "      <td>1.0</td>\n",
       "      <td>1.0</td>\n",
       "      <td>0.0</td>\n",
       "      <td>0.0</td>\n",
       "      <td>0.0</td>\n",
       "      <td>1.0</td>\n",
       "      <td>0.0</td>\n",
       "    </tr>\n",
       "    <tr>\n",
       "      <td>497</td>\n",
       "      <td>0.138313</td>\n",
       "      <td>0.4</td>\n",
       "      <td>0.090196</td>\n",
       "      <td>1.000000</td>\n",
       "      <td>1.000000</td>\n",
       "      <td>0.532624</td>\n",
       "      <td>0.759563</td>\n",
       "      <td>0.0</td>\n",
       "      <td>1.0</td>\n",
       "      <td>0.0</td>\n",
       "      <td>0.0</td>\n",
       "      <td>1.0</td>\n",
       "      <td>0.0</td>\n",
       "      <td>0.0</td>\n",
       "      <td>0.0</td>\n",
       "      <td>0.0</td>\n",
       "      <td>1.0</td>\n",
       "    </tr>\n",
       "    <tr>\n",
       "      <td>498</td>\n",
       "      <td>0.000021</td>\n",
       "      <td>0.6</td>\n",
       "      <td>0.028880</td>\n",
       "      <td>1.000000</td>\n",
       "      <td>0.666667</td>\n",
       "      <td>0.303514</td>\n",
       "      <td>0.856397</td>\n",
       "      <td>0.0</td>\n",
       "      <td>1.0</td>\n",
       "      <td>0.0</td>\n",
       "      <td>0.0</td>\n",
       "      <td>0.0</td>\n",
       "      <td>1.0</td>\n",
       "      <td>0.0</td>\n",
       "      <td>1.0</td>\n",
       "      <td>0.0</td>\n",
       "      <td>0.0</td>\n",
       "    </tr>\n",
       "    <tr>\n",
       "      <td>499</td>\n",
       "      <td>0.494606</td>\n",
       "      <td>0.4</td>\n",
       "      <td>0.049664</td>\n",
       "      <td>1.000000</td>\n",
       "      <td>1.000000</td>\n",
       "      <td>0.664784</td>\n",
       "      <td>0.923764</td>\n",
       "      <td>0.0</td>\n",
       "      <td>1.0</td>\n",
       "      <td>0.0</td>\n",
       "      <td>0.0</td>\n",
       "      <td>0.0</td>\n",
       "      <td>1.0</td>\n",
       "      <td>0.0</td>\n",
       "      <td>1.0</td>\n",
       "      <td>0.0</td>\n",
       "      <td>0.0</td>\n",
       "    </tr>\n",
       "  </tbody>\n",
       "</table>\n",
       "<p>500 rows × 17 columns</p>\n",
       "</div>"
      ],
      "text/plain": [
       "        price  condition  odometer  title_status      size       lat  \\\n",
       "0    0.351101        0.6  0.061552      1.000000  1.000000  0.716904   \n",
       "1    0.136185        0.6  0.059944      1.000000  1.000000  0.687623   \n",
       "2    0.487073        0.6  0.055861      1.000000  1.000000  0.802880   \n",
       "3    0.106394        0.8  0.164146      1.000000  0.666667  0.705393   \n",
       "4    0.000000        0.6  0.081233      1.000000  1.000000  0.550119   \n",
       "..        ...        ...       ...           ...       ...       ...   \n",
       "495  0.036174        0.4  0.095238      1.000000  0.666667  0.738502   \n",
       "496  0.085009        0.4  0.072829      0.333333  1.000000  0.750431   \n",
       "497  0.138313        0.4  0.090196      1.000000  1.000000  0.532624   \n",
       "498  0.000021        0.6  0.028880      1.000000  0.666667  0.303514   \n",
       "499  0.494606        0.4  0.049664      1.000000  1.000000  0.664784   \n",
       "\n",
       "         long  fuel_0  fuel_1  fuel_2  fuel_3  transmission_0  transmission_1  \\\n",
       "0    0.384496     0.0     1.0     0.0     0.0             1.0             0.0   \n",
       "1    0.924233     0.0     1.0     0.0     0.0             1.0             0.0   \n",
       "2    0.919114     0.0     1.0     0.0     0.0             1.0             0.0   \n",
       "3    0.824541     0.0     1.0     0.0     0.0             1.0             0.0   \n",
       "4    0.677205     0.0     1.0     0.0     0.0             1.0             0.0   \n",
       "..        ...     ...     ...     ...     ...             ...             ...   \n",
       "495  0.689717     0.0     1.0     0.0     0.0             1.0             0.0   \n",
       "496  0.716647     0.0     0.0     0.0     1.0             1.0             0.0   \n",
       "497  0.759563     0.0     1.0     0.0     0.0             1.0             0.0   \n",
       "498  0.856397     0.0     1.0     0.0     0.0             0.0             1.0   \n",
       "499  0.923764     0.0     1.0     0.0     0.0             0.0             1.0   \n",
       "\n",
       "     transmission_2  drive_0  drive_1  drive_2  \n",
       "0               0.0      1.0      0.0      0.0  \n",
       "1               0.0      0.0      1.0      0.0  \n",
       "2               0.0      1.0      0.0      0.0  \n",
       "3               0.0      0.0      1.0      0.0  \n",
       "4               0.0      1.0      0.0      0.0  \n",
       "..              ...      ...      ...      ...  \n",
       "495             0.0      0.0      1.0      0.0  \n",
       "496             0.0      0.0      1.0      0.0  \n",
       "497             0.0      0.0      0.0      1.0  \n",
       "498             0.0      1.0      0.0      0.0  \n",
       "499             0.0      1.0      0.0      0.0  \n",
       "\n",
       "[500 rows x 17 columns]"
      ]
     },
     "execution_count": 48,
     "metadata": {},
     "output_type": "execute_result"
    }
   ],
   "source": [
    "scaledData1"
   ]
  },
  {
   "cell_type": "code",
   "execution_count": 49,
   "metadata": {},
   "outputs": [],
   "source": [
    "stratPCA, pcColumns, stratDf = performPCA(stratifiedData.iloc[:,:-1])"
   ]
  },
  {
   "cell_type": "code",
   "execution_count": 50,
   "metadata": {},
   "outputs": [
    {
     "data": {
      "image/png": "[encoded data removed]",
      "text/plain": [
       "<Figure size 432x288 with 1 Axes>"
      ]
     },
     "metadata": {
      "needs_background": "light"
     },
     "output_type": "display_data"
    }
   ],
   "source": [
    "plotScreePlot(stratPCA, pcColumns)"
   ]
  },
  {
   "cell_type": "code",
   "execution_count": 86,
   "metadata": {},
   "outputs": [],
   "source": [
    "sumOfSquaredDist = []\n",
    "kRange = range(1,12)\n",
    "for k in kRange:\n",
    "    km = KMeans(n_clusters=k)\n",
    "    km = km.fit(scaledData1)\n",
    "    sumOfSquaredDist.append(km.inertia_)\n",
    "knee = KneeLocator(kRange, sumOfSquaredDist, curve='convex', direction='decreasing')\n",
    "\n",
    "kmeans = KMeans(n_clusters = knee.knee)\n",
    "kmeans = kmeans.fit(scaledData1)\n",
    "scaledData1['kvalue'] = kmeans.labels_\t#adding labels as additional attribute\n",
    "count = len(scaledData)/4\t#sample size\n",
    "datacount = math.floor(count/len(scaledData1['kvalue'].value_counts()))\t#size of each cluster in sample\n",
    "#new dataframe to save stratified sample and appending records to that dataframe\n",
    "stratifiedData = pd.DataFrame(columns = scaledData1.columns)\n",
    "for i in scaledData1.kvalue.unique():\n",
    "    temp = scaledData1[scaledData1['kvalue']==i]\n",
    "    tempData = temp.sample(n=datacount)\n",
    "    stratifiedData = stratifiedData.append(tempData)"
   ]
  },
  {
   "cell_type": "code",
   "execution_count": 87,
   "metadata": {},
   "outputs": [
    {
     "data": {
      "text/html": [
       "<div>\n",
       "<style scoped>\n",
       "    .dataframe tbody tr th:only-of-type {\n",
       "        vertical-align: middle;\n",
       "    }\n",
       "\n",
       "    .dataframe tbody tr th {\n",
       "        vertical-align: top;\n",
       "    }\n",
       "\n",
       "    .dataframe thead th {\n",
       "        text-align: right;\n",
       "    }\n",
       "</style>\n",
       "<table border=\"1\" class=\"dataframe\">\n",
       "  <thead>\n",
       "    <tr style=\"text-align: right;\">\n",
       "      <th></th>\n",
       "      <th>price</th>\n",
       "      <th>condition</th>\n",
       "      <th>odometer</th>\n",
       "      <th>title_status</th>\n",
       "      <th>size</th>\n",
       "      <th>lat</th>\n",
       "      <th>long</th>\n",
       "      <th>fuel_0</th>\n",
       "      <th>fuel_1</th>\n",
       "      <th>fuel_2</th>\n",
       "      <th>fuel_3</th>\n",
       "      <th>transmission_0</th>\n",
       "      <th>transmission_1</th>\n",
       "      <th>transmission_2</th>\n",
       "      <th>drive_0</th>\n",
       "      <th>drive_1</th>\n",
       "      <th>drive_2</th>\n",
       "      <th>kvalue</th>\n",
       "    </tr>\n",
       "  </thead>\n",
       "  <tbody>\n",
       "    <tr>\n",
       "      <td>492</td>\n",
       "      <td>0.319076</td>\n",
       "      <td>0.6</td>\n",
       "      <td>0.099452</td>\n",
       "      <td>1.0</td>\n",
       "      <td>1.000000</td>\n",
       "      <td>0.792124</td>\n",
       "      <td>0.974913</td>\n",
       "      <td>0.0</td>\n",
       "      <td>1.0</td>\n",
       "      <td>0.0</td>\n",
       "      <td>0.0</td>\n",
       "      <td>0.0</td>\n",
       "      <td>0.0</td>\n",
       "      <td>1.0</td>\n",
       "      <td>1.0</td>\n",
       "      <td>0.0</td>\n",
       "      <td>0.0</td>\n",
       "      <td>1</td>\n",
       "    </tr>\n",
       "    <tr>\n",
       "      <td>181</td>\n",
       "      <td>0.595702</td>\n",
       "      <td>0.6</td>\n",
       "      <td>0.034168</td>\n",
       "      <td>1.0</td>\n",
       "      <td>1.000000</td>\n",
       "      <td>0.567685</td>\n",
       "      <td>0.872708</td>\n",
       "      <td>0.0</td>\n",
       "      <td>1.0</td>\n",
       "      <td>0.0</td>\n",
       "      <td>0.0</td>\n",
       "      <td>1.0</td>\n",
       "      <td>0.0</td>\n",
       "      <td>0.0</td>\n",
       "      <td>1.0</td>\n",
       "      <td>0.0</td>\n",
       "      <td>0.0</td>\n",
       "      <td>1</td>\n",
       "    </tr>\n",
       "    <tr>\n",
       "      <td>485</td>\n",
       "      <td>0.000000</td>\n",
       "      <td>0.6</td>\n",
       "      <td>0.025379</td>\n",
       "      <td>1.0</td>\n",
       "      <td>0.666667</td>\n",
       "      <td>0.737288</td>\n",
       "      <td>0.689811</td>\n",
       "      <td>0.0</td>\n",
       "      <td>1.0</td>\n",
       "      <td>0.0</td>\n",
       "      <td>0.0</td>\n",
       "      <td>1.0</td>\n",
       "      <td>0.0</td>\n",
       "      <td>0.0</td>\n",
       "      <td>1.0</td>\n",
       "      <td>0.0</td>\n",
       "      <td>0.0</td>\n",
       "      <td>1</td>\n",
       "    </tr>\n",
       "    <tr>\n",
       "      <td>330</td>\n",
       "      <td>0.074476</td>\n",
       "      <td>0.6</td>\n",
       "      <td>0.095238</td>\n",
       "      <td>1.0</td>\n",
       "      <td>1.000000</td>\n",
       "      <td>0.655344</td>\n",
       "      <td>0.587179</td>\n",
       "      <td>0.0</td>\n",
       "      <td>1.0</td>\n",
       "      <td>0.0</td>\n",
       "      <td>0.0</td>\n",
       "      <td>1.0</td>\n",
       "      <td>0.0</td>\n",
       "      <td>0.0</td>\n",
       "      <td>1.0</td>\n",
       "      <td>0.0</td>\n",
       "      <td>0.0</td>\n",
       "      <td>1</td>\n",
       "    </tr>\n",
       "    <tr>\n",
       "      <td>480</td>\n",
       "      <td>0.340249</td>\n",
       "      <td>0.6</td>\n",
       "      <td>0.094654</td>\n",
       "      <td>1.0</td>\n",
       "      <td>1.000000</td>\n",
       "      <td>0.793371</td>\n",
       "      <td>0.974345</td>\n",
       "      <td>0.0</td>\n",
       "      <td>1.0</td>\n",
       "      <td>0.0</td>\n",
       "      <td>0.0</td>\n",
       "      <td>1.0</td>\n",
       "      <td>0.0</td>\n",
       "      <td>0.0</td>\n",
       "      <td>1.0</td>\n",
       "      <td>0.0</td>\n",
       "      <td>0.0</td>\n",
       "      <td>1</td>\n",
       "    </tr>\n",
       "    <tr>\n",
       "      <td>...</td>\n",
       "      <td>...</td>\n",
       "      <td>...</td>\n",
       "      <td>...</td>\n",
       "      <td>...</td>\n",
       "      <td>...</td>\n",
       "      <td>...</td>\n",
       "      <td>...</td>\n",
       "      <td>...</td>\n",
       "      <td>...</td>\n",
       "      <td>...</td>\n",
       "      <td>...</td>\n",
       "      <td>...</td>\n",
       "      <td>...</td>\n",
       "      <td>...</td>\n",
       "      <td>...</td>\n",
       "      <td>...</td>\n",
       "      <td>...</td>\n",
       "      <td>...</td>\n",
       "    </tr>\n",
       "    <tr>\n",
       "      <td>342</td>\n",
       "      <td>0.529844</td>\n",
       "      <td>0.8</td>\n",
       "      <td>0.011333</td>\n",
       "      <td>1.0</td>\n",
       "      <td>1.000000</td>\n",
       "      <td>0.946952</td>\n",
       "      <td>0.385118</td>\n",
       "      <td>1.0</td>\n",
       "      <td>0.0</td>\n",
       "      <td>0.0</td>\n",
       "      <td>0.0</td>\n",
       "      <td>1.0</td>\n",
       "      <td>0.0</td>\n",
       "      <td>0.0</td>\n",
       "      <td>1.0</td>\n",
       "      <td>0.0</td>\n",
       "      <td>0.0</td>\n",
       "      <td>2</td>\n",
       "    </tr>\n",
       "    <tr>\n",
       "      <td>125</td>\n",
       "      <td>0.170210</td>\n",
       "      <td>0.6</td>\n",
       "      <td>0.026958</td>\n",
       "      <td>1.0</td>\n",
       "      <td>1.000000</td>\n",
       "      <td>0.748381</td>\n",
       "      <td>0.952467</td>\n",
       "      <td>1.0</td>\n",
       "      <td>0.0</td>\n",
       "      <td>0.0</td>\n",
       "      <td>0.0</td>\n",
       "      <td>1.0</td>\n",
       "      <td>0.0</td>\n",
       "      <td>0.0</td>\n",
       "      <td>0.0</td>\n",
       "      <td>1.0</td>\n",
       "      <td>0.0</td>\n",
       "      <td>2</td>\n",
       "    </tr>\n",
       "    <tr>\n",
       "      <td>398</td>\n",
       "      <td>0.531865</td>\n",
       "      <td>0.4</td>\n",
       "      <td>0.096312</td>\n",
       "      <td>1.0</td>\n",
       "      <td>1.000000</td>\n",
       "      <td>0.799610</td>\n",
       "      <td>0.917376</td>\n",
       "      <td>1.0</td>\n",
       "      <td>0.0</td>\n",
       "      <td>0.0</td>\n",
       "      <td>0.0</td>\n",
       "      <td>1.0</td>\n",
       "      <td>0.0</td>\n",
       "      <td>0.0</td>\n",
       "      <td>1.0</td>\n",
       "      <td>0.0</td>\n",
       "      <td>0.0</td>\n",
       "      <td>2</td>\n",
       "    </tr>\n",
       "    <tr>\n",
       "      <td>192</td>\n",
       "      <td>0.735993</td>\n",
       "      <td>0.6</td>\n",
       "      <td>0.044818</td>\n",
       "      <td>1.0</td>\n",
       "      <td>1.000000</td>\n",
       "      <td>0.533134</td>\n",
       "      <td>0.671403</td>\n",
       "      <td>1.0</td>\n",
       "      <td>0.0</td>\n",
       "      <td>0.0</td>\n",
       "      <td>0.0</td>\n",
       "      <td>1.0</td>\n",
       "      <td>0.0</td>\n",
       "      <td>0.0</td>\n",
       "      <td>1.0</td>\n",
       "      <td>0.0</td>\n",
       "      <td>0.0</td>\n",
       "      <td>2</td>\n",
       "    </tr>\n",
       "    <tr>\n",
       "      <td>103</td>\n",
       "      <td>0.319162</td>\n",
       "      <td>0.6</td>\n",
       "      <td>0.094118</td>\n",
       "      <td>1.0</td>\n",
       "      <td>1.000000</td>\n",
       "      <td>0.941183</td>\n",
       "      <td>0.383574</td>\n",
       "      <td>1.0</td>\n",
       "      <td>0.0</td>\n",
       "      <td>0.0</td>\n",
       "      <td>0.0</td>\n",
       "      <td>1.0</td>\n",
       "      <td>0.0</td>\n",
       "      <td>0.0</td>\n",
       "      <td>1.0</td>\n",
       "      <td>0.0</td>\n",
       "      <td>0.0</td>\n",
       "      <td>2</td>\n",
       "    </tr>\n",
       "  </tbody>\n",
       "</table>\n",
       "<p>124 rows × 18 columns</p>\n",
       "</div>"
      ],
      "text/plain": [
       "        price  condition  odometer  title_status      size       lat  \\\n",
       "492  0.319076        0.6  0.099452           1.0  1.000000  0.792124   \n",
       "181  0.595702        0.6  0.034168           1.0  1.000000  0.567685   \n",
       "485  0.000000        0.6  0.025379           1.0  0.666667  0.737288   \n",
       "330  0.074476        0.6  0.095238           1.0  1.000000  0.655344   \n",
       "480  0.340249        0.6  0.094654           1.0  1.000000  0.793371   \n",
       "..        ...        ...       ...           ...       ...       ...   \n",
       "342  0.529844        0.8  0.011333           1.0  1.000000  0.946952   \n",
       "125  0.170210        0.6  0.026958           1.0  1.000000  0.748381   \n",
       "398  0.531865        0.4  0.096312           1.0  1.000000  0.799610   \n",
       "192  0.735993        0.6  0.044818           1.0  1.000000  0.533134   \n",
       "103  0.319162        0.6  0.094118           1.0  1.000000  0.941183   \n",
       "\n",
       "         long  fuel_0  fuel_1  fuel_2  fuel_3  transmission_0  transmission_1  \\\n",
       "492  0.974913     0.0     1.0     0.0     0.0             0.0             0.0   \n",
       "181  0.872708     0.0     1.0     0.0     0.0             1.0             0.0   \n",
       "485  0.689811     0.0     1.0     0.0     0.0             1.0             0.0   \n",
       "330  0.587179     0.0     1.0     0.0     0.0             1.0             0.0   \n",
       "480  0.974345     0.0     1.0     0.0     0.0             1.0             0.0   \n",
       "..        ...     ...     ...     ...     ...             ...             ...   \n",
       "342  0.385118     1.0     0.0     0.0     0.0             1.0             0.0   \n",
       "125  0.952467     1.0     0.0     0.0     0.0             1.0             0.0   \n",
       "398  0.917376     1.0     0.0     0.0     0.0             1.0             0.0   \n",
       "192  0.671403     1.0     0.0     0.0     0.0             1.0             0.0   \n",
       "103  0.383574     1.0     0.0     0.0     0.0             1.0             0.0   \n",
       "\n",
       "     transmission_2  drive_0  drive_1  drive_2 kvalue  \n",
       "492             1.0      1.0      0.0      0.0      1  \n",
       "181             0.0      1.0      0.0      0.0      1  \n",
       "485             0.0      1.0      0.0      0.0      1  \n",
       "330             0.0      1.0      0.0      0.0      1  \n",
       "480             0.0      1.0      0.0      0.0      1  \n",
       "..              ...      ...      ...      ...    ...  \n",
       "342             0.0      1.0      0.0      0.0      2  \n",
       "125             0.0      0.0      1.0      0.0      2  \n",
       "398             0.0      1.0      0.0      0.0      2  \n",
       "192             0.0      1.0      0.0      0.0      2  \n",
       "103             0.0      1.0      0.0      0.0      2  \n",
       "\n",
       "[124 rows x 18 columns]"
      ]
     },
     "execution_count": 87,
     "metadata": {},
     "output_type": "execute_result"
    }
   ],
   "source": [
    "stratifiedData"
   ]
  },
  {
   "cell_type": "code",
   "execution_count": 51,
   "metadata": {},
   "outputs": [],
   "source": [
    "randSample = scaledData1.sample(frac=0.25)"
   ]
  },
  {
   "cell_type": "code",
   "execution_count": 83,
   "metadata": {},
   "outputs": [
    {
     "data": {
      "text/html": [
       "<div>\n",
       "<style scoped>\n",
       "    .dataframe tbody tr th:only-of-type {\n",
       "        vertical-align: middle;\n",
       "    }\n",
       "\n",
       "    .dataframe tbody tr th {\n",
       "        vertical-align: top;\n",
       "    }\n",
       "\n",
       "    .dataframe thead th {\n",
       "        text-align: right;\n",
       "    }\n",
       "</style>\n",
       "<table border=\"1\" class=\"dataframe\">\n",
       "  <thead>\n",
       "    <tr style=\"text-align: right;\">\n",
       "      <th></th>\n",
       "      <th>price</th>\n",
       "      <th>condition</th>\n",
       "      <th>odometer</th>\n",
       "      <th>title_status</th>\n",
       "      <th>size</th>\n",
       "      <th>lat</th>\n",
       "      <th>long</th>\n",
       "      <th>fuel_0</th>\n",
       "      <th>fuel_1</th>\n",
       "      <th>fuel_2</th>\n",
       "      <th>fuel_3</th>\n",
       "      <th>transmission_0</th>\n",
       "      <th>transmission_1</th>\n",
       "      <th>transmission_2</th>\n",
       "      <th>drive_0</th>\n",
       "      <th>drive_1</th>\n",
       "      <th>drive_2</th>\n",
       "    </tr>\n",
       "  </thead>\n",
       "  <tbody>\n",
       "    <tr>\n",
       "      <td>125</td>\n",
       "      <td>0.170210</td>\n",
       "      <td>0.6</td>\n",
       "      <td>0.026958</td>\n",
       "      <td>1.000000</td>\n",
       "      <td>1.000000</td>\n",
       "      <td>0.748381</td>\n",
       "      <td>0.952467</td>\n",
       "      <td>1.0</td>\n",
       "      <td>0.0</td>\n",
       "      <td>0.0</td>\n",
       "      <td>0.0</td>\n",
       "      <td>1.0</td>\n",
       "      <td>0.0</td>\n",
       "      <td>0.0</td>\n",
       "      <td>0.0</td>\n",
       "      <td>1.0</td>\n",
       "      <td>0.0</td>\n",
       "    </tr>\n",
       "    <tr>\n",
       "      <td>291</td>\n",
       "      <td>0.000021</td>\n",
       "      <td>0.6</td>\n",
       "      <td>0.012565</td>\n",
       "      <td>1.000000</td>\n",
       "      <td>1.000000</td>\n",
       "      <td>0.303514</td>\n",
       "      <td>0.856397</td>\n",
       "      <td>0.0</td>\n",
       "      <td>1.0</td>\n",
       "      <td>0.0</td>\n",
       "      <td>0.0</td>\n",
       "      <td>0.0</td>\n",
       "      <td>0.0</td>\n",
       "      <td>1.0</td>\n",
       "      <td>1.0</td>\n",
       "      <td>0.0</td>\n",
       "      <td>0.0</td>\n",
       "    </tr>\n",
       "    <tr>\n",
       "      <td>253</td>\n",
       "      <td>0.000000</td>\n",
       "      <td>0.6</td>\n",
       "      <td>0.026032</td>\n",
       "      <td>1.000000</td>\n",
       "      <td>1.000000</td>\n",
       "      <td>0.528637</td>\n",
       "      <td>0.566573</td>\n",
       "      <td>0.0</td>\n",
       "      <td>1.0</td>\n",
       "      <td>0.0</td>\n",
       "      <td>0.0</td>\n",
       "      <td>1.0</td>\n",
       "      <td>0.0</td>\n",
       "      <td>0.0</td>\n",
       "      <td>1.0</td>\n",
       "      <td>0.0</td>\n",
       "      <td>0.0</td>\n",
       "    </tr>\n",
       "    <tr>\n",
       "      <td>430</td>\n",
       "      <td>0.142568</td>\n",
       "      <td>0.6</td>\n",
       "      <td>0.078992</td>\n",
       "      <td>1.000000</td>\n",
       "      <td>1.000000</td>\n",
       "      <td>0.421239</td>\n",
       "      <td>0.432388</td>\n",
       "      <td>0.0</td>\n",
       "      <td>1.0</td>\n",
       "      <td>0.0</td>\n",
       "      <td>0.0</td>\n",
       "      <td>1.0</td>\n",
       "      <td>0.0</td>\n",
       "      <td>0.0</td>\n",
       "      <td>0.0</td>\n",
       "      <td>1.0</td>\n",
       "      <td>0.0</td>\n",
       "    </tr>\n",
       "    <tr>\n",
       "      <td>466</td>\n",
       "      <td>0.154272</td>\n",
       "      <td>0.6</td>\n",
       "      <td>0.059384</td>\n",
       "      <td>0.333333</td>\n",
       "      <td>0.333333</td>\n",
       "      <td>0.673192</td>\n",
       "      <td>0.821804</td>\n",
       "      <td>0.0</td>\n",
       "      <td>1.0</td>\n",
       "      <td>0.0</td>\n",
       "      <td>0.0</td>\n",
       "      <td>1.0</td>\n",
       "      <td>0.0</td>\n",
       "      <td>0.0</td>\n",
       "      <td>0.0</td>\n",
       "      <td>1.0</td>\n",
       "      <td>0.0</td>\n",
       "    </tr>\n",
       "    <tr>\n",
       "      <td>...</td>\n",
       "      <td>...</td>\n",
       "      <td>...</td>\n",
       "      <td>...</td>\n",
       "      <td>...</td>\n",
       "      <td>...</td>\n",
       "      <td>...</td>\n",
       "      <td>...</td>\n",
       "      <td>...</td>\n",
       "      <td>...</td>\n",
       "      <td>...</td>\n",
       "      <td>...</td>\n",
       "      <td>...</td>\n",
       "      <td>...</td>\n",
       "      <td>...</td>\n",
       "      <td>...</td>\n",
       "      <td>...</td>\n",
       "      <td>...</td>\n",
       "    </tr>\n",
       "    <tr>\n",
       "      <td>300</td>\n",
       "      <td>0.500053</td>\n",
       "      <td>0.8</td>\n",
       "      <td>0.020728</td>\n",
       "      <td>1.000000</td>\n",
       "      <td>0.666667</td>\n",
       "      <td>0.568371</td>\n",
       "      <td>0.841492</td>\n",
       "      <td>0.0</td>\n",
       "      <td>1.0</td>\n",
       "      <td>0.0</td>\n",
       "      <td>0.0</td>\n",
       "      <td>0.0</td>\n",
       "      <td>1.0</td>\n",
       "      <td>0.0</td>\n",
       "      <td>1.0</td>\n",
       "      <td>0.0</td>\n",
       "      <td>0.0</td>\n",
       "    </tr>\n",
       "    <tr>\n",
       "      <td>419</td>\n",
       "      <td>0.170124</td>\n",
       "      <td>0.4</td>\n",
       "      <td>0.089636</td>\n",
       "      <td>1.000000</td>\n",
       "      <td>1.000000</td>\n",
       "      <td>0.783873</td>\n",
       "      <td>0.962015</td>\n",
       "      <td>0.0</td>\n",
       "      <td>1.0</td>\n",
       "      <td>0.0</td>\n",
       "      <td>0.0</td>\n",
       "      <td>1.0</td>\n",
       "      <td>0.0</td>\n",
       "      <td>0.0</td>\n",
       "      <td>1.0</td>\n",
       "      <td>0.0</td>\n",
       "      <td>0.0</td>\n",
       "    </tr>\n",
       "    <tr>\n",
       "      <td>47</td>\n",
       "      <td>0.102139</td>\n",
       "      <td>0.4</td>\n",
       "      <td>0.108964</td>\n",
       "      <td>1.000000</td>\n",
       "      <td>1.000000</td>\n",
       "      <td>0.604893</td>\n",
       "      <td>0.723610</td>\n",
       "      <td>0.0</td>\n",
       "      <td>1.0</td>\n",
       "      <td>0.0</td>\n",
       "      <td>0.0</td>\n",
       "      <td>1.0</td>\n",
       "      <td>0.0</td>\n",
       "      <td>0.0</td>\n",
       "      <td>1.0</td>\n",
       "      <td>0.0</td>\n",
       "      <td>0.0</td>\n",
       "    </tr>\n",
       "    <tr>\n",
       "      <td>487</td>\n",
       "      <td>0.276625</td>\n",
       "      <td>0.6</td>\n",
       "      <td>0.063305</td>\n",
       "      <td>1.000000</td>\n",
       "      <td>1.000000</td>\n",
       "      <td>0.515222</td>\n",
       "      <td>0.902831</td>\n",
       "      <td>0.0</td>\n",
       "      <td>1.0</td>\n",
       "      <td>0.0</td>\n",
       "      <td>0.0</td>\n",
       "      <td>0.0</td>\n",
       "      <td>1.0</td>\n",
       "      <td>0.0</td>\n",
       "      <td>1.0</td>\n",
       "      <td>0.0</td>\n",
       "      <td>0.0</td>\n",
       "    </tr>\n",
       "    <tr>\n",
       "      <td>52</td>\n",
       "      <td>0.084051</td>\n",
       "      <td>0.6</td>\n",
       "      <td>0.000085</td>\n",
       "      <td>1.000000</td>\n",
       "      <td>0.666667</td>\n",
       "      <td>0.857730</td>\n",
       "      <td>0.742493</td>\n",
       "      <td>0.0</td>\n",
       "      <td>1.0</td>\n",
       "      <td>0.0</td>\n",
       "      <td>0.0</td>\n",
       "      <td>1.0</td>\n",
       "      <td>0.0</td>\n",
       "      <td>0.0</td>\n",
       "      <td>1.0</td>\n",
       "      <td>0.0</td>\n",
       "      <td>0.0</td>\n",
       "    </tr>\n",
       "  </tbody>\n",
       "</table>\n",
       "<p>125 rows × 17 columns</p>\n",
       "</div>"
      ],
      "text/plain": [
       "        price  condition  odometer  title_status      size       lat  \\\n",
       "125  0.170210        0.6  0.026958      1.000000  1.000000  0.748381   \n",
       "291  0.000021        0.6  0.012565      1.000000  1.000000  0.303514   \n",
       "253  0.000000        0.6  0.026032      1.000000  1.000000  0.528637   \n",
       "430  0.142568        0.6  0.078992      1.000000  1.000000  0.421239   \n",
       "466  0.154272        0.6  0.059384      0.333333  0.333333  0.673192   \n",
       "..        ...        ...       ...           ...       ...       ...   \n",
       "300  0.500053        0.8  0.020728      1.000000  0.666667  0.568371   \n",
       "419  0.170124        0.4  0.089636      1.000000  1.000000  0.783873   \n",
       "47   0.102139        0.4  0.108964      1.000000  1.000000  0.604893   \n",
       "487  0.276625        0.6  0.063305      1.000000  1.000000  0.515222   \n",
       "52   0.084051        0.6  0.000085      1.000000  0.666667  0.857730   \n",
       "\n",
       "         long  fuel_0  fuel_1  fuel_2  fuel_3  transmission_0  transmission_1  \\\n",
       "125  0.952467     1.0     0.0     0.0     0.0             1.0             0.0   \n",
       "291  0.856397     0.0     1.0     0.0     0.0             0.0             0.0   \n",
       "253  0.566573     0.0     1.0     0.0     0.0             1.0             0.0   \n",
       "430  0.432388     0.0     1.0     0.0     0.0             1.0             0.0   \n",
       "466  0.821804     0.0     1.0     0.0     0.0             1.0             0.0   \n",
       "..        ...     ...     ...     ...     ...             ...             ...   \n",
       "300  0.841492     0.0     1.0     0.0     0.0             0.0             1.0   \n",
       "419  0.962015     0.0     1.0     0.0     0.0             1.0             0.0   \n",
       "47   0.723610     0.0     1.0     0.0     0.0             1.0             0.0   \n",
       "487  0.902831     0.0     1.0     0.0     0.0             0.0             1.0   \n",
       "52   0.742493     0.0     1.0     0.0     0.0             1.0             0.0   \n",
       "\n",
       "     transmission_2  drive_0  drive_1  drive_2  \n",
       "125             0.0      0.0      1.0      0.0  \n",
       "291             1.0      1.0      0.0      0.0  \n",
       "253             0.0      1.0      0.0      0.0  \n",
       "430             0.0      0.0      1.0      0.0  \n",
       "466             0.0      0.0      1.0      0.0  \n",
       "..              ...      ...      ...      ...  \n",
       "300             0.0      1.0      0.0      0.0  \n",
       "419             0.0      1.0      0.0      0.0  \n",
       "47              0.0      1.0      0.0      0.0  \n",
       "487             0.0      1.0      0.0      0.0  \n",
       "52              0.0      1.0      0.0      0.0  \n",
       "\n",
       "[125 rows x 17 columns]"
      ]
     },
     "execution_count": 83,
     "metadata": {},
     "output_type": "execute_result"
    }
   ],
   "source": [
    "randSample"
   ]
  },
  {
   "cell_type": "code",
   "execution_count": 52,
   "metadata": {},
   "outputs": [],
   "source": [
    "randPCA, randPCCols, randDf = performPCA(randSample)"
   ]
  },
  {
   "cell_type": "code",
   "execution_count": 88,
   "metadata": {
    "collapsed": true
   },
   "outputs": [
    {
     "data": {
      "text/html": [
       "<div>\n",
       "<style scoped>\n",
       "    .dataframe tbody tr th:only-of-type {\n",
       "        vertical-align: middle;\n",
       "    }\n",
       "\n",
       "    .dataframe tbody tr th {\n",
       "        vertical-align: top;\n",
       "    }\n",
       "\n",
       "    .dataframe thead th {\n",
       "        text-align: right;\n",
       "    }\n",
       "</style>\n",
       "<table border=\"1\" class=\"dataframe\">\n",
       "  <thead>\n",
       "    <tr style=\"text-align: right;\">\n",
       "      <th></th>\n",
       "      <th>PC1</th>\n",
       "      <th>PC2</th>\n",
       "      <th>PC3</th>\n",
       "      <th>PC4</th>\n",
       "      <th>PC5</th>\n",
       "      <th>PC6</th>\n",
       "      <th>PC7</th>\n",
       "      <th>PC8</th>\n",
       "      <th>PC9</th>\n",
       "      <th>PC10</th>\n",
       "      <th>PC11</th>\n",
       "      <th>PC12</th>\n",
       "      <th>PC13</th>\n",
       "      <th>PC14</th>\n",
       "      <th>PC15</th>\n",
       "      <th>PC16</th>\n",
       "      <th>PC17</th>\n",
       "    </tr>\n",
       "  </thead>\n",
       "  <tbody>\n",
       "    <tr>\n",
       "      <td>0</td>\n",
       "      <td>0.681732</td>\n",
       "      <td>-0.407057</td>\n",
       "      <td>-0.072802</td>\n",
       "      <td>1.343725</td>\n",
       "      <td>0.355303</td>\n",
       "      <td>0.050986</td>\n",
       "      <td>-0.130870</td>\n",
       "      <td>0.009621</td>\n",
       "      <td>0.085366</td>\n",
       "      <td>0.033445</td>\n",
       "      <td>0.044279</td>\n",
       "      <td>-0.262763</td>\n",
       "      <td>-0.044899</td>\n",
       "      <td>0.047683</td>\n",
       "      <td>-5.683050e-16</td>\n",
       "      <td>-2.461174e-16</td>\n",
       "      <td>-5.142044e-17</td>\n",
       "    </tr>\n",
       "    <tr>\n",
       "      <td>1</td>\n",
       "      <td>-0.705655</td>\n",
       "      <td>-0.054167</td>\n",
       "      <td>0.648389</td>\n",
       "      <td>-0.242825</td>\n",
       "      <td>0.693814</td>\n",
       "      <td>0.404089</td>\n",
       "      <td>0.448971</td>\n",
       "      <td>0.722280</td>\n",
       "      <td>-0.002578</td>\n",
       "      <td>-0.062672</td>\n",
       "      <td>0.071959</td>\n",
       "      <td>-0.045004</td>\n",
       "      <td>-0.038780</td>\n",
       "      <td>0.014378</td>\n",
       "      <td>-3.175146e-16</td>\n",
       "      <td>4.228228e-16</td>\n",
       "      <td>6.515200e-17</td>\n",
       "    </tr>\n",
       "    <tr>\n",
       "      <td>2</td>\n",
       "      <td>-0.601197</td>\n",
       "      <td>-0.167638</td>\n",
       "      <td>-0.178338</td>\n",
       "      <td>-0.140063</td>\n",
       "      <td>0.054674</td>\n",
       "      <td>0.037615</td>\n",
       "      <td>0.166740</td>\n",
       "      <td>-0.079585</td>\n",
       "      <td>0.233550</td>\n",
       "      <td>0.237039</td>\n",
       "      <td>0.020007</td>\n",
       "      <td>-0.022433</td>\n",
       "      <td>-0.081411</td>\n",
       "      <td>0.045652</td>\n",
       "      <td>5.399238e-17</td>\n",
       "      <td>-1.003197e-16</td>\n",
       "      <td>1.002348e-16</td>\n",
       "    </tr>\n",
       "    <tr>\n",
       "      <td>3</td>\n",
       "      <td>0.728645</td>\n",
       "      <td>-0.353022</td>\n",
       "      <td>-0.120439</td>\n",
       "      <td>0.034385</td>\n",
       "      <td>-0.045935</td>\n",
       "      <td>-0.154792</td>\n",
       "      <td>0.474653</td>\n",
       "      <td>0.004747</td>\n",
       "      <td>0.078815</td>\n",
       "      <td>0.047760</td>\n",
       "      <td>0.009474</td>\n",
       "      <td>0.026848</td>\n",
       "      <td>-0.048751</td>\n",
       "      <td>-0.014346</td>\n",
       "      <td>-9.286746e-17</td>\n",
       "      <td>1.626789e-16</td>\n",
       "      <td>5.840481e-17</td>\n",
       "    </tr>\n",
       "    <tr>\n",
       "      <td>4</td>\n",
       "      <td>0.861824</td>\n",
       "      <td>-0.477560</td>\n",
       "      <td>-0.019564</td>\n",
       "      <td>-0.144666</td>\n",
       "      <td>-0.160095</td>\n",
       "      <td>0.291444</td>\n",
       "      <td>-0.277759</td>\n",
       "      <td>0.028251</td>\n",
       "      <td>0.298080</td>\n",
       "      <td>-0.389751</td>\n",
       "      <td>0.048989</td>\n",
       "      <td>0.013171</td>\n",
       "      <td>0.045866</td>\n",
       "      <td>-0.009367</td>\n",
       "      <td>-4.107710e-16</td>\n",
       "      <td>4.153582e-17</td>\n",
       "      <td>5.149163e-17</td>\n",
       "    </tr>\n",
       "    <tr>\n",
       "      <td>...</td>\n",
       "      <td>...</td>\n",
       "      <td>...</td>\n",
       "      <td>...</td>\n",
       "      <td>...</td>\n",
       "      <td>...</td>\n",
       "      <td>...</td>\n",
       "      <td>...</td>\n",
       "      <td>...</td>\n",
       "      <td>...</td>\n",
       "      <td>...</td>\n",
       "      <td>...</td>\n",
       "      <td>...</td>\n",
       "      <td>...</td>\n",
       "      <td>...</td>\n",
       "      <td>...</td>\n",
       "      <td>...</td>\n",
       "      <td>...</td>\n",
       "    </tr>\n",
       "    <tr>\n",
       "      <td>120</td>\n",
       "      <td>-0.689152</td>\n",
       "      <td>0.006926</td>\n",
       "      <td>1.227192</td>\n",
       "      <td>-0.068389</td>\n",
       "      <td>-0.263579</td>\n",
       "      <td>0.023799</td>\n",
       "      <td>-0.058471</td>\n",
       "      <td>-0.134568</td>\n",
       "      <td>-0.191094</td>\n",
       "      <td>-0.063836</td>\n",
       "      <td>0.185853</td>\n",
       "      <td>-0.035064</td>\n",
       "      <td>-0.014298</td>\n",
       "      <td>0.010229</td>\n",
       "      <td>-6.428009e-17</td>\n",
       "      <td>-1.336866e-17</td>\n",
       "      <td>2.678661e-17</td>\n",
       "    </tr>\n",
       "    <tr>\n",
       "      <td>121</td>\n",
       "      <td>-0.635192</td>\n",
       "      <td>-0.190707</td>\n",
       "      <td>-0.168885</td>\n",
       "      <td>-0.094459</td>\n",
       "      <td>0.198387</td>\n",
       "      <td>-0.165855</td>\n",
       "      <td>-0.213227</td>\n",
       "      <td>-0.011500</td>\n",
       "      <td>0.081724</td>\n",
       "      <td>0.066388</td>\n",
       "      <td>-0.074520</td>\n",
       "      <td>0.025668</td>\n",
       "      <td>0.033870</td>\n",
       "      <td>-0.007968</td>\n",
       "      <td>4.456798e-17</td>\n",
       "      <td>2.082675e-17</td>\n",
       "      <td>2.148380e-17</td>\n",
       "    </tr>\n",
       "    <tr>\n",
       "      <td>122</td>\n",
       "      <td>-0.617840</td>\n",
       "      <td>-0.167942</td>\n",
       "      <td>-0.175245</td>\n",
       "      <td>-0.113966</td>\n",
       "      <td>0.135787</td>\n",
       "      <td>-0.054460</td>\n",
       "      <td>0.023001</td>\n",
       "      <td>-0.071657</td>\n",
       "      <td>0.166042</td>\n",
       "      <td>0.139760</td>\n",
       "      <td>-0.119045</td>\n",
       "      <td>0.055922</td>\n",
       "      <td>-0.000619</td>\n",
       "      <td>-0.025159</td>\n",
       "      <td>3.012360e-17</td>\n",
       "      <td>1.728024e-17</td>\n",
       "      <td>-2.395929e-18</td>\n",
       "    </tr>\n",
       "    <tr>\n",
       "      <td>123</td>\n",
       "      <td>-0.711824</td>\n",
       "      <td>0.060829</td>\n",
       "      <td>1.209520</td>\n",
       "      <td>-0.049319</td>\n",
       "      <td>0.013539</td>\n",
       "      <td>-0.210180</td>\n",
       "      <td>0.045235</td>\n",
       "      <td>-0.142232</td>\n",
       "      <td>0.026296</td>\n",
       "      <td>0.004791</td>\n",
       "      <td>0.091772</td>\n",
       "      <td>0.010175</td>\n",
       "      <td>-0.006469</td>\n",
       "      <td>0.002831</td>\n",
       "      <td>3.511801e-17</td>\n",
       "      <td>-8.153411e-17</td>\n",
       "      <td>2.109546e-17</td>\n",
       "    </tr>\n",
       "    <tr>\n",
       "      <td>124</td>\n",
       "      <td>-0.556475</td>\n",
       "      <td>-0.236775</td>\n",
       "      <td>-0.149990</td>\n",
       "      <td>-0.186055</td>\n",
       "      <td>-0.026814</td>\n",
       "      <td>0.143989</td>\n",
       "      <td>-0.269255</td>\n",
       "      <td>-0.010769</td>\n",
       "      <td>0.053070</td>\n",
       "      <td>0.239314</td>\n",
       "      <td>0.002781</td>\n",
       "      <td>-0.045691</td>\n",
       "      <td>-0.040670</td>\n",
       "      <td>0.068919</td>\n",
       "      <td>-7.608904e-17</td>\n",
       "      <td>-4.226133e-17</td>\n",
       "      <td>4.696969e-17</td>\n",
       "    </tr>\n",
       "  </tbody>\n",
       "</table>\n",
       "<p>125 rows × 17 columns</p>\n",
       "</div>"
      ],
      "text/plain": [
       "          PC1       PC2       PC3       PC4       PC5       PC6       PC7  \\\n",
       "0    0.681732 -0.407057 -0.072802  1.343725  0.355303  0.050986 -0.130870   \n",
       "1   -0.705655 -0.054167  0.648389 -0.242825  0.693814  0.404089  0.448971   \n",
       "2   -0.601197 -0.167638 -0.178338 -0.140063  0.054674  0.037615  0.166740   \n",
       "3    0.728645 -0.353022 -0.120439  0.034385 -0.045935 -0.154792  0.474653   \n",
       "4    0.861824 -0.477560 -0.019564 -0.144666 -0.160095  0.291444 -0.277759   \n",
       "..        ...       ...       ...       ...       ...       ...       ...   \n",
       "120 -0.689152  0.006926  1.227192 -0.068389 -0.263579  0.023799 -0.058471   \n",
       "121 -0.635192 -0.190707 -0.168885 -0.094459  0.198387 -0.165855 -0.213227   \n",
       "122 -0.617840 -0.167942 -0.175245 -0.113966  0.135787 -0.054460  0.023001   \n",
       "123 -0.711824  0.060829  1.209520 -0.049319  0.013539 -0.210180  0.045235   \n",
       "124 -0.556475 -0.236775 -0.149990 -0.186055 -0.026814  0.143989 -0.269255   \n",
       "\n",
       "          PC8       PC9      PC10      PC11      PC12      PC13      PC14  \\\n",
       "0    0.009621  0.085366  0.033445  0.044279 -0.262763 -0.044899  0.047683   \n",
       "1    0.722280 -0.002578 -0.062672  0.071959 -0.045004 -0.038780  0.014378   \n",
       "2   -0.079585  0.233550  0.237039  0.020007 -0.022433 -0.081411  0.045652   \n",
       "3    0.004747  0.078815  0.047760  0.009474  0.026848 -0.048751 -0.014346   \n",
       "4    0.028251  0.298080 -0.389751  0.048989  0.013171  0.045866 -0.009367   \n",
       "..        ...       ...       ...       ...       ...       ...       ...   \n",
       "120 -0.134568 -0.191094 -0.063836  0.185853 -0.035064 -0.014298  0.010229   \n",
       "121 -0.011500  0.081724  0.066388 -0.074520  0.025668  0.033870 -0.007968   \n",
       "122 -0.071657  0.166042  0.139760 -0.119045  0.055922 -0.000619 -0.025159   \n",
       "123 -0.142232  0.026296  0.004791  0.091772  0.010175 -0.006469  0.002831   \n",
       "124 -0.010769  0.053070  0.239314  0.002781 -0.045691 -0.040670  0.068919   \n",
       "\n",
       "             PC15          PC16          PC17  \n",
       "0   -5.683050e-16 -2.461174e-16 -5.142044e-17  \n",
       "1   -3.175146e-16  4.228228e-16  6.515200e-17  \n",
       "2    5.399238e-17 -1.003197e-16  1.002348e-16  \n",
       "3   -9.286746e-17  1.626789e-16  5.840481e-17  \n",
       "4   -4.107710e-16  4.153582e-17  5.149163e-17  \n",
       "..            ...           ...           ...  \n",
       "120 -6.428009e-17 -1.336866e-17  2.678661e-17  \n",
       "121  4.456798e-17  2.082675e-17  2.148380e-17  \n",
       "122  3.012360e-17  1.728024e-17 -2.395929e-18  \n",
       "123  3.511801e-17 -8.153411e-17  2.109546e-17  \n",
       "124 -7.608904e-17 -4.226133e-17  4.696969e-17  \n",
       "\n",
       "[125 rows x 17 columns]"
      ]
     },
     "execution_count": 88,
     "metadata": {},
     "output_type": "execute_result"
    }
   ],
   "source": [
    "randDf"
   ]
  },
  {
   "cell_type": "code",
   "execution_count": 53,
   "metadata": {},
   "outputs": [
    {
     "data": {
      "image/png": "[encoded data removed]",
      "text/plain": [
       "<Figure size 432x288 with 1 Axes>"
      ]
     },
     "metadata": {
      "needs_background": "light"
     },
     "output_type": "display_data"
    }
   ],
   "source": [
    "plotScreePlot(randPCA, randPCCols)"
   ]
  },
  {
   "cell_type": "code",
   "execution_count": 54,
   "metadata": {},
   "outputs": [],
   "source": [
    "orgPCA, orgPCCols, orgDf = performPCA(scaledData1)"
   ]
  },
  {
   "cell_type": "code",
   "execution_count": 55,
   "metadata": {},
   "outputs": [
    {
     "data": {
      "image/png": "[encoded data removed]",
      "text/plain": [
       "<Figure size 432x288 with 1 Axes>"
      ]
     },
     "metadata": {
      "needs_background": "light"
     },
     "output_type": "display_data"
    }
   ],
   "source": [
    "plotScreePlot(orgPCA, orgPCCols)"
   ]
  },
  {
   "cell_type": "code",
   "execution_count": 56,
   "metadata": {},
   "outputs": [
    {
     "data": {
      "text/plain": [
       "array([0.42, 0.2 , 0.16, 0.06, 0.03, 0.03, 0.02, 0.02, 0.02, 0.01, 0.01,\n",
       "       0.01, 0.01, 0.  , 0.  , 0.  , 0.  ])"
      ]
     },
     "execution_count": 56,
     "metadata": {},
     "output_type": "execute_result"
    }
   ],
   "source": [
    "np.round(stratPCA.explained_variance_ratio_, decimals = 2)"
   ]
  },
  {
   "cell_type": "code",
   "execution_count": 57,
   "metadata": {},
   "outputs": [
    {
     "data": {
      "text/plain": [
       "['PC1',\n",
       " 'PC2',\n",
       " 'PC3',\n",
       " 'PC4',\n",
       " 'PC5',\n",
       " 'PC6',\n",
       " 'PC7',\n",
       " 'PC8',\n",
       " 'PC9',\n",
       " 'PC10',\n",
       " 'PC11',\n",
       " 'PC12',\n",
       " 'PC13',\n",
       " 'PC14',\n",
       " 'PC15',\n",
       " 'PC16',\n",
       " 'PC17']"
      ]
     },
     "execution_count": 57,
     "metadata": {},
     "output_type": "execute_result"
    }
   ],
   "source": [
    "pcColumns"
   ]
  },
  {
   "cell_type": "code",
   "execution_count": 169,
   "metadata": {},
   "outputs": [],
   "source": [
    "def top3Attributes(data, pca):\n",
    "    sumOfSquareLoadings = pd.DataFrame(np.sum(np.square(pd.DataFrame(pca.components_.T * np.sqrt(pca.explained_variance_))), axis = 1))\n",
    "    largest3 = sumOfSquareLoadings.nlargest(3,0)\n",
    "    attrVals = data.iloc[:, largest3.index.values]\n",
    "    return attrVals.columns, attrVals"
   ]
  },
  {
   "cell_type": "code",
   "execution_count": 171,
   "metadata": {},
   "outputs": [],
   "source": [
    "orgCols,a = top3Attributes(scaledData1, orgPCA)\n",
    "randCols,b=top3Attributes(randSample, randPCA)\n",
    "stratCols,c=top3Attributes(stratifiedData, stratPCA)"
   ]
  },
  {
   "cell_type": "code",
   "execution_count": 172,
   "metadata": {},
   "outputs": [
    {
     "data": {
      "text/plain": [
       "Index(['drive_0', 'drive_1', 'drive_2'], dtype='object')"
      ]
     },
     "execution_count": 172,
     "metadata": {},
     "output_type": "execute_result"
    }
   ],
   "source": [
    "orgCols"
   ]
  },
  {
   "cell_type": "code",
   "execution_count": 174,
   "metadata": {},
   "outputs": [
    {
     "data": {
      "text/plain": [
       "Index(['drive_0', 'drive_1', 'drive_2'], dtype='object')"
      ]
     },
     "execution_count": 174,
     "metadata": {},
     "output_type": "execute_result"
    }
   ],
   "source": [
    "randCols"
   ]
  },
  {
   "cell_type": "code",
   "execution_count": 175,
   "metadata": {},
   "outputs": [
    {
     "data": {
      "text/plain": [
       "Index(['drive_0', 'drive_1', 'fuel_1'], dtype='object')"
      ]
     },
     "execution_count": 175,
     "metadata": {},
     "output_type": "execute_result"
    }
   ],
   "source": [
    "stratCols"
   ]
  },
  {
   "cell_type": "code",
   "execution_count": 58,
   "metadata": {},
   "outputs": [],
   "source": [
    "\n",
    "from sklearn.manifold import MDS\n",
    "from sklearn.metrics import pairwise_distances"
   ]
  },
  {
   "cell_type": "code",
   "execution_count": 59,
   "metadata": {},
   "outputs": [],
   "source": [
    "def performMDS(x, dissimilarity):\n",
    "    embedding = MDS(n_components=2, dissimilarity=dissimilarity)\n",
    "    if dissimilarity == 'precomputed':\n",
    "        transformed = embedding.fit_transform(pairwise_distances(x))\n",
    "    else:\n",
    "        transformed = embedding.fit_transform(x)\n",
    "    mdscols = ['D1', 'D2']\n",
    "    mdsdf = pd.DataFrame(data = transformed, columns = mdscols)\n",
    "    print(mdsdf.shape)\n",
    "    return mdscols, mdsdf"
   ]
  },
  {
   "cell_type": "code",
   "execution_count": 60,
   "metadata": {},
   "outputs": [
    {
     "name": "stdout",
     "output_type": "stream",
     "text": [
      "(124, 2)\n"
     ]
    }
   ],
   "source": [
    "estratCols, estratMDSDf = performMDS(stratifiedData.iloc[:,:-1], 'euclidean')"
   ]
  },
  {
   "cell_type": "code",
   "execution_count": 64,
   "metadata": {},
   "outputs": [
    {
     "data": {
      "text/plain": [
       "'[{\"D1\":-0.2436368383,\"D2\":0.4323781136},{\"D1\":-0.2108095868,\"D2\":0.449601057},{\"D1\":-0.2306627763,\"D2\":0.6701412954},{\"D1\":-0.0728515216,\"D2\":0.3358584063},{\"D1\":-0.5546865285,\"D2\":0.8089283825},{\"D1\":-0.4784031862,\"D2\":-1.7082858999},{\"D1\":-0.2851817994,\"D2\":0.7117821711},{\"D1\":-0.3251115909,\"D2\":0.4605278036},{\"D1\":-0.4239198989,\"D2\":0.6843475776},{\"D1\":-0.0375555908,\"D2\":0.4295692434},{\"D1\":-0.2969157289,\"D2\":0.3074460282},{\"D1\":-0.2010146291,\"D2\":0.5294495996},{\"D1\":-0.086203155,\"D2\":0.2709465421},{\"D1\":-0.2044342878,\"D2\":0.5885233392},{\"D1\":-0.3142155507,\"D2\":0.3101539798},{\"D1\":-0.0602585984,\"D2\":0.3321613634},{\"D1\":0.1202751466,\"D2\":0.3194009445},{\"D1\":-0.0349748801,\"D2\":0.2898888943},{\"D1\":-0.1370102592,\"D2\":0.3530422285},{\"D1\":-0.1192771016,\"D2\":0.5131020624},{\"D1\":-0.0941986469,\"D2\":0.4135813034},{\"D1\":0.3011014473,\"D2\":0.4384940803},{\"D1\":-0.3969920231,\"D2\":0.4501360043},{\"D1\":-0.0254549085,\"D2\":0.2565375675},{\"D1\":-0.1078483817,\"D2\":0.3159779549},{\"D1\":0.0434848924,\"D2\":0.2481961648},{\"D1\":-0.2875335065,\"D2\":0.5503353617},{\"D1\":0.1979812474,\"D2\":0.1614628743},{\"D1\":-0.1503235946,\"D2\":0.3315490304},{\"D1\":0.0272879514,\"D2\":0.3319111949},{\"D1\":-0.1152708916,\"D2\":0.569949621},{\"D1\":-0.885575109,\"D2\":-0.4000047409},{\"D1\":-1.4823521215,\"D2\":-0.3102616182},{\"D1\":-1.5146473288,\"D2\":0.6806556507},{\"D1\":-0.9938922639,\"D2\":-0.4641862743},{\"D1\":-0.7545306413,\"D2\":-0.5154316999},{\"D1\":-1.2860724813,\"D2\":-0.1015958946},{\"D1\":-1.0956532395,\"D2\":-0.6672926201},{\"D1\":-0.8411371512,\"D2\":-0.4203731554},{\"D1\":-0.752792102,\"D2\":-0.5665294117},{\"D1\":-0.864146423,\"D2\":-0.5627434102},{\"D1\":-1.2350459796,\"D2\":-1.4498861271},{\"D1\":-0.8691660561,\"D2\":-0.3887668476},{\"D1\":-0.9567338513,\"D2\":-0.4720242266},{\"D1\":-1.5862716555,\"D2\":-0.1222051359},{\"D1\":-0.911348368,\"D2\":-0.3300026769},{\"D1\":-1.042926159,\"D2\":-0.6557188996},{\"D1\":-1.049974478,\"D2\":-0.6446363938},{\"D1\":-1.0367267716,\"D2\":-0.3075012059},{\"D1\":-0.9787475919,\"D2\":-0.2640314994},{\"D1\":-0.7639667107,\"D2\":-0.6672780846},{\"D1\":-0.8786918898,\"D2\":-0.323864101},{\"D1\":-1.2576892846,\"D2\":-0.1510931031},{\"D1\":-1.0130694982,\"D2\":-0.4288447122},{\"D1\":-0.9176304372,\"D2\":-0.4917976591},{\"D1\":-0.9082945084,\"D2\":-0.5062415099},{\"D1\":-1.1585968742,\"D2\":-0.5554347619},{\"D1\":-0.8130001082,\"D2\":-0.6624962553},{\"D1\":-0.8055423898,\"D2\":-0.4818627667},{\"D1\":-1.3146403282,\"D2\":-1.423190743},{\"D1\":-1.4446411793,\"D2\":-0.2620800038},{\"D1\":-1.1081226407,\"D2\":-0.6135073524},{\"D1\":1.4887403373,\"D2\":-0.6592503303},{\"D1\":0.4864695024,\"D2\":-0.7757429966},{\"D1\":1.4956548013,\"D2\":-0.7699258839},{\"D1\":0.3805159236,\"D2\":-0.9489903844},{\"D1\":0.3623524132,\"D2\":-0.8406798702},{\"D1\":0.4576118752,\"D2\":-0.8442321473},{\"D1\":0.2587641541,\"D2\":-0.9195036494},{\"D1\":0.6545797536,\"D2\":-0.8459831232},{\"D1\":0.382886096,\"D2\":-0.8710036688},{\"D1\":0.3395513665,\"D2\":-0.8663002311},{\"D1\":0.142473974,\"D2\":-1.1560167518},{\"D1\":0.7342837012,\"D2\":-1.0380515224},{\"D1\":0.43286218,\"D2\":-0.9931946965},{\"D1\":0.3496696734,\"D2\":-0.8864606107},{\"D1\":0.554572047,\"D2\":-1.0181324035},{\"D1\":0.6483534472,\"D2\":-0.8111405756},{\"D1\":0.5196425042,\"D2\":-0.8547102588},{\"D1\":0.4968360061,\"D2\":-0.7462658038},{\"D1\":0.3913519437,\"D2\":-0.8488816064},{\"D1\":0.4781992402,\"D2\":-0.9017355675},{\"D1\":0.5502754383,\"D2\":-0.759821547},{\"D1\":0.6305618016,\"D2\":-1.7409240808},{\"D1\":0.4419999577,\"D2\":-0.9508906183},{\"D1\":0.2343092903,\"D2\":-0.973648311},{\"D1\":0.3231781941,\"D2\":-1.0366051928},{\"D1\":0.6176749545,\"D2\":-1.704976082},{\"D1\":0.3934878554,\"D2\":-0.805900315},{\"D1\":0.5205730743,\"D2\":-0.7679133762},{\"D1\":0.2540573864,\"D2\":-0.9331686077},{\"D1\":0.1457494779,\"D2\":-1.2439335498},{\"D1\":0.1918425303,\"D2\":-0.989499219},{\"D1\":0.4493499699,\"D2\":1.4191071735},{\"D1\":0.473037045,\"D2\":1.3766402669},{\"D1\":1.7820965217,\"D2\":0.7731104931},{\"D1\":-1.0773539944,\"D2\":1.1139253854},{\"D1\":0.7685475806,\"D2\":1.1359521679},{\"D1\":0.6800603475,\"D2\":1.2549423499},{\"D1\":0.7242191257,\"D2\":1.1079780736},{\"D1\":0.9622063332,\"D2\":1.0458469161},{\"D1\":1.3396811185,\"D2\":0.1240233719},{\"D1\":0.9222067621,\"D2\":0.9321412392},{\"D1\":0.8452128287,\"D2\":1.111582895},{\"D1\":0.8376849597,\"D2\":0.9882740192},{\"D1\":0.70006302,\"D2\":1.1745273998},{\"D1\":0.5768518118,\"D2\":1.4218367455},{\"D1\":1.0133562846,\"D2\":0.8230022582},{\"D1\":0.480646117,\"D2\":1.4951361333},{\"D1\":0.5986164047,\"D2\":1.2831517172},{\"D1\":0.4748120317,\"D2\":1.4029765654},{\"D1\":0.8974556507,\"D2\":0.9341944434},{\"D1\":0.9288278241,\"D2\":1.1734498614},{\"D1\":0.8204946109,\"D2\":1.0923349648},{\"D1\":1.4462445035,\"D2\":-0.1633091643},{\"D1\":0.75043689,\"D2\":1.0813090791},{\"D1\":1.0433428728,\"D2\":0.8635250929},{\"D1\":0.9915590538,\"D2\":0.9183872076},{\"D1\":0.6956973352,\"D2\":1.178564867},{\"D1\":0.6006793713,\"D2\":1.3117006269},{\"D1\":0.8107841073,\"D2\":1.0178451231},{\"D1\":0.5523006171,\"D2\":1.3631177366},{\"D1\":0.878222943,\"D2\":0.9511781045},{\"D1\":-1.0001805506,\"D2\":1.1701628177}]'"
      ]
     },
     "execution_count": 64,
     "metadata": {},
     "output_type": "execute_result"
    }
   ],
   "source": [
    "estratMDSDf.to_json(orient='records')"
   ]
  },
  {
   "cell_type": "code",
   "execution_count": 72,
   "metadata": {},
   "outputs": [],
   "source": [
    "sumOfSquareLoadings = pd.DataFrame(np.sum(np.square(pd.DataFrame(stratPCA.components_.T * np.sqrt(stratPCA.explained_variance_))), axis = 1))\n",
    "largest3 = sumOfSquareLoadings.nlargest(3,0)"
   ]
  },
  {
   "cell_type": "code",
   "execution_count": 97,
   "metadata": {
    "scrolled": true
   },
   "outputs": [
    {
     "data": {
      "text/html": [
       "<div>\n",
       "<style scoped>\n",
       "    .dataframe tbody tr th:only-of-type {\n",
       "        vertical-align: middle;\n",
       "    }\n",
       "\n",
       "    .dataframe tbody tr th {\n",
       "        vertical-align: top;\n",
       "    }\n",
       "\n",
       "    .dataframe thead th {\n",
       "        text-align: right;\n",
       "    }\n",
       "</style>\n",
       "<table border=\"1\" class=\"dataframe\">\n",
       "  <thead>\n",
       "    <tr style=\"text-align: right;\">\n",
       "      <th></th>\n",
       "      <th>drive_0</th>\n",
       "      <th>drive_1</th>\n",
       "      <th>fuel_1</th>\n",
       "    </tr>\n",
       "  </thead>\n",
       "  <tbody>\n",
       "    <tr>\n",
       "      <td>492</td>\n",
       "      <td>1.0</td>\n",
       "      <td>0.0</td>\n",
       "      <td>1.0</td>\n",
       "    </tr>\n",
       "    <tr>\n",
       "      <td>181</td>\n",
       "      <td>1.0</td>\n",
       "      <td>0.0</td>\n",
       "      <td>1.0</td>\n",
       "    </tr>\n",
       "    <tr>\n",
       "      <td>485</td>\n",
       "      <td>1.0</td>\n",
       "      <td>0.0</td>\n",
       "      <td>1.0</td>\n",
       "    </tr>\n",
       "    <tr>\n",
       "      <td>330</td>\n",
       "      <td>1.0</td>\n",
       "      <td>0.0</td>\n",
       "      <td>1.0</td>\n",
       "    </tr>\n",
       "    <tr>\n",
       "      <td>480</td>\n",
       "      <td>1.0</td>\n",
       "      <td>0.0</td>\n",
       "      <td>1.0</td>\n",
       "    </tr>\n",
       "    <tr>\n",
       "      <td>...</td>\n",
       "      <td>...</td>\n",
       "      <td>...</td>\n",
       "      <td>...</td>\n",
       "    </tr>\n",
       "    <tr>\n",
       "      <td>342</td>\n",
       "      <td>1.0</td>\n",
       "      <td>0.0</td>\n",
       "      <td>0.0</td>\n",
       "    </tr>\n",
       "    <tr>\n",
       "      <td>125</td>\n",
       "      <td>0.0</td>\n",
       "      <td>1.0</td>\n",
       "      <td>0.0</td>\n",
       "    </tr>\n",
       "    <tr>\n",
       "      <td>398</td>\n",
       "      <td>1.0</td>\n",
       "      <td>0.0</td>\n",
       "      <td>0.0</td>\n",
       "    </tr>\n",
       "    <tr>\n",
       "      <td>192</td>\n",
       "      <td>1.0</td>\n",
       "      <td>0.0</td>\n",
       "      <td>0.0</td>\n",
       "    </tr>\n",
       "    <tr>\n",
       "      <td>103</td>\n",
       "      <td>1.0</td>\n",
       "      <td>0.0</td>\n",
       "      <td>0.0</td>\n",
       "    </tr>\n",
       "  </tbody>\n",
       "</table>\n",
       "<p>124 rows × 3 columns</p>\n",
       "</div>"
      ],
      "text/plain": [
       "     drive_0  drive_1  fuel_1\n",
       "492      1.0      0.0     1.0\n",
       "181      1.0      0.0     1.0\n",
       "485      1.0      0.0     1.0\n",
       "330      1.0      0.0     1.0\n",
       "480      1.0      0.0     1.0\n",
       "..       ...      ...     ...\n",
       "342      1.0      0.0     0.0\n",
       "125      0.0      1.0     0.0\n",
       "398      1.0      0.0     0.0\n",
       "192      1.0      0.0     0.0\n",
       "103      1.0      0.0     0.0\n",
       "\n",
       "[124 rows x 3 columns]"
      ]
     },
     "execution_count": 97,
     "metadata": {},
     "output_type": "execute_result"
    }
   ],
   "source": [
    "finaldata = stratifiedData.iloc[:,:-1].iloc[:, largest3.index.values]\n",
    "finaldata"
   ]
  },
  {
   "cell_type": "code",
   "execution_count": 166,
   "metadata": {},
   "outputs": [],
   "source": [
    "def createMatrixJSONObj(dframe):\n",
    "    jsonObj = []\n",
    "    for i in range(0,3):\n",
    "        for j in range(2,-1, -1):\n",
    "            if(i==j):\n",
    "                col = pd.DataFrame(dframe.iloc[:, [j]].values, columns = ['Same']) \n",
    "                jsonObj.append(pd.concat([col, dframe.iloc[:, [i]]], axis=1).to_json(orient='records'))\n",
    "            else:\n",
    "                jsonObj.append(dframe.iloc[:, [j, i]].to_json(orient='records'))\n",
    "    return jsonObj;"
   ]
  },
  {
   "cell_type": "code",
   "execution_count": 167,
   "metadata": {},
   "outputs": [
    {
     "name": "stdout",
     "output_type": "stream",
     "text": [
      "0 2\n",
      "0 1\n",
      "0 0\n",
      "1 2\n",
      "1 1\n",
      "1 0\n",
      "2 2\n",
      "2 1\n",
      "2 0\n",
      "['[{\"drive_1\":0.0,\"index\":492},{\"drive_1\":0.0,\"index\":181},{\"drive_1\":0.0,\"index\":485},{\"drive_1\":0.0,\"index\":330},{\"drive_1\":0.0,\"index\":480},{\"drive_1\":0.0,\"index\":166},{\"drive_1\":0.0,\"index\":62},{\"drive_1\":0.0,\"index\":150},{\"drive_1\":0.0,\"index\":375},{\"drive_1\":0.0,\"index\":71},{\"drive_1\":0.0,\"index\":27},{\"drive_1\":0.0,\"index\":431},{\"drive_1\":0.0,\"index\":370},{\"drive_1\":0.0,\"index\":424},{\"drive_1\":0.0,\"index\":419},{\"drive_1\":0.0,\"index\":282},{\"drive_1\":0.0,\"index\":187},{\"drive_1\":0.0,\"index\":98},{\"drive_1\":0.0,\"index\":451},{\"drive_1\":0.0,\"index\":0},{\"drive_1\":0.0,\"index\":260},{\"drive_1\":0.0,\"index\":294},{\"drive_1\":0.0,\"index\":312},{\"drive_1\":0.0,\"index\":450},{\"drive_1\":0.0,\"index\":442},{\"drive_1\":0.0,\"index\":83},{\"drive_1\":0.0,\"index\":228},{\"drive_1\":0.0,\"index\":333},{\"drive_1\":0.0,\"index\":108},{\"drive_1\":0.0,\"index\":448},{\"drive_1\":0.0,\"index\":58},{\"drive_1\":1.0,\"index\":447},{\"drive_1\":1.0,\"index\":51},{\"drive_1\":1.0,\"index\":145},{\"drive_1\":1.0,\"index\":461},{\"drive_1\":1.0,\"index\":308},{\"drive_1\":1.0,\"index\":386},{\"drive_1\":1.0,\"index\":355},{\"drive_1\":1.0,\"index\":470},{\"drive_1\":1.0,\"index\":319},{\"drive_1\":1.0,\"index\":149},{\"drive_1\":1.0,\"index\":148},{\"drive_1\":1.0,\"index\":324},{\"drive_1\":1.0,\"index\":111},{\"drive_1\":1.0,\"index\":309},{\"drive_1\":1.0,\"index\":206},{\"drive_1\":1.0,\"index\":86},{\"drive_1\":1.0,\"index\":127},{\"drive_1\":1.0,\"index\":345},{\"drive_1\":1.0,\"index\":482},{\"drive_1\":1.0,\"index\":99},{\"drive_1\":1.0,\"index\":359},{\"drive_1\":1.0,\"index\":377},{\"drive_1\":1.0,\"index\":188},{\"drive_1\":1.0,\"index\":390},{\"drive_1\":1.0,\"index\":347},{\"drive_1\":1.0,\"index\":120},{\"drive_1\":1.0,\"index\":430},{\"drive_1\":1.0,\"index\":191},{\"drive_1\":1.0,\"index\":388},{\"drive_1\":1.0,\"index\":202},{\"drive_1\":1.0,\"index\":204},{\"drive_1\":0.0,\"index\":165},{\"drive_1\":0.0,\"index\":267},{\"drive_1\":0.0,\"index\":313},{\"drive_1\":0.0,\"index\":406},{\"drive_1\":0.0,\"index\":389},{\"drive_1\":0.0,\"index\":311},{\"drive_1\":0.0,\"index\":211},{\"drive_1\":0.0,\"index\":287},{\"drive_1\":0.0,\"index\":143},{\"drive_1\":0.0,\"index\":105},{\"drive_1\":0.0,\"index\":463},{\"drive_1\":0.0,\"index\":279},{\"drive_1\":0.0,\"index\":139},{\"drive_1\":0.0,\"index\":340},{\"drive_1\":0.0,\"index\":124},{\"drive_1\":0.0,\"index\":29},{\"drive_1\":0.0,\"index\":439},{\"drive_1\":0.0,\"index\":144},{\"drive_1\":0.0,\"index\":273},{\"drive_1\":0.0,\"index\":264},{\"drive_1\":0.0,\"index\":158},{\"drive_1\":0.0,\"index\":446},{\"drive_1\":0.0,\"index\":32},{\"drive_1\":0.0,\"index\":23},{\"drive_1\":0.0,\"index\":497},{\"drive_1\":0.0,\"index\":278},{\"drive_1\":0.0,\"index\":7},{\"drive_1\":0.0,\"index\":286},{\"drive_1\":0.0,\"index\":270},{\"drive_1\":0.0,\"index\":138},{\"drive_1\":0.0,\"index\":38},{\"drive_1\":1.0,\"index\":436},{\"drive_1\":0.0,\"index\":243},{\"drive_1\":1.0,\"index\":378},{\"drive_1\":0.0,\"index\":195},{\"drive_1\":0.0,\"index\":92},{\"drive_1\":0.0,\"index\":12},{\"drive_1\":0.0,\"index\":316},{\"drive_1\":0.0,\"index\":403},{\"drive_1\":0.0,\"index\":268},{\"drive_1\":0.0,\"index\":55},{\"drive_1\":0.0,\"index\":315},{\"drive_1\":0.0,\"index\":162},{\"drive_1\":0.0,\"index\":358},{\"drive_1\":0.0,\"index\":197},{\"drive_1\":0.0,\"index\":135},{\"drive_1\":0.0,\"index\":64},{\"drive_1\":0.0,\"index\":128},{\"drive_1\":0.0,\"index\":293},{\"drive_1\":0.0,\"index\":11},{\"drive_1\":0.0,\"index\":126},{\"drive_1\":0.0,\"index\":483},{\"drive_1\":0.0,\"index\":484},{\"drive_1\":0.0,\"index\":251},{\"drive_1\":0.0,\"index\":476},{\"drive_1\":0.0,\"index\":310},{\"drive_1\":0.0,\"index\":400},{\"drive_1\":0.0,\"index\":342},{\"drive_1\":1.0,\"index\":125},{\"drive_1\":0.0,\"index\":398},{\"drive_1\":0.0,\"index\":192},{\"drive_1\":0.0,\"index\":103}]', '[{\"drive_0\":1.0,\"index\":492},{\"drive_0\":1.0,\"index\":181},{\"drive_0\":1.0,\"index\":485},{\"drive_0\":1.0,\"index\":330},{\"drive_0\":1.0,\"index\":480},{\"drive_0\":1.0,\"index\":166},{\"drive_0\":1.0,\"index\":62},{\"drive_0\":1.0,\"index\":150},{\"drive_0\":1.0,\"index\":375},{\"drive_0\":1.0,\"index\":71},{\"drive_0\":1.0,\"index\":27},{\"drive_0\":1.0,\"index\":431},{\"drive_0\":1.0,\"index\":370},{\"drive_0\":1.0,\"index\":424},{\"drive_0\":1.0,\"index\":419},{\"drive_0\":1.0,\"index\":282},{\"drive_0\":1.0,\"index\":187},{\"drive_0\":1.0,\"index\":98},{\"drive_0\":1.0,\"index\":451},{\"drive_0\":1.0,\"index\":0},{\"drive_0\":1.0,\"index\":260},{\"drive_0\":1.0,\"index\":294},{\"drive_0\":1.0,\"index\":312},{\"drive_0\":1.0,\"index\":450},{\"drive_0\":1.0,\"index\":442},{\"drive_0\":1.0,\"index\":83},{\"drive_0\":1.0,\"index\":228},{\"drive_0\":1.0,\"index\":333},{\"drive_0\":1.0,\"index\":108},{\"drive_0\":1.0,\"index\":448},{\"drive_0\":1.0,\"index\":58},{\"drive_0\":0.0,\"index\":447},{\"drive_0\":0.0,\"index\":51},{\"drive_0\":0.0,\"index\":145},{\"drive_0\":0.0,\"index\":461},{\"drive_0\":0.0,\"index\":308},{\"drive_0\":0.0,\"index\":386},{\"drive_0\":0.0,\"index\":355},{\"drive_0\":0.0,\"index\":470},{\"drive_0\":0.0,\"index\":319},{\"drive_0\":0.0,\"index\":149},{\"drive_0\":0.0,\"index\":148},{\"drive_0\":0.0,\"index\":324},{\"drive_0\":0.0,\"index\":111},{\"drive_0\":0.0,\"index\":309},{\"drive_0\":0.0,\"index\":206},{\"drive_0\":0.0,\"index\":86},{\"drive_0\":0.0,\"index\":127},{\"drive_0\":0.0,\"index\":345},{\"drive_0\":0.0,\"index\":482},{\"drive_0\":0.0,\"index\":99},{\"drive_0\":0.0,\"index\":359},{\"drive_0\":0.0,\"index\":377},{\"drive_0\":0.0,\"index\":188},{\"drive_0\":0.0,\"index\":390},{\"drive_0\":0.0,\"index\":347},{\"drive_0\":0.0,\"index\":120},{\"drive_0\":0.0,\"index\":430},{\"drive_0\":0.0,\"index\":191},{\"drive_0\":0.0,\"index\":388},{\"drive_0\":0.0,\"index\":202},{\"drive_0\":0.0,\"index\":204},{\"drive_0\":0.0,\"index\":165},{\"drive_0\":0.0,\"index\":267},{\"drive_0\":0.0,\"index\":313},{\"drive_0\":0.0,\"index\":406},{\"drive_0\":0.0,\"index\":389},{\"drive_0\":0.0,\"index\":311},{\"drive_0\":0.0,\"index\":211},{\"drive_0\":0.0,\"index\":287},{\"drive_0\":0.0,\"index\":143},{\"drive_0\":0.0,\"index\":105},{\"drive_0\":0.0,\"index\":463},{\"drive_0\":0.0,\"index\":279},{\"drive_0\":0.0,\"index\":139},{\"drive_0\":0.0,\"index\":340},{\"drive_0\":0.0,\"index\":124},{\"drive_0\":0.0,\"index\":29},{\"drive_0\":0.0,\"index\":439},{\"drive_0\":0.0,\"index\":144},{\"drive_0\":0.0,\"index\":273},{\"drive_0\":0.0,\"index\":264},{\"drive_0\":0.0,\"index\":158},{\"drive_0\":0.0,\"index\":446},{\"drive_0\":0.0,\"index\":32},{\"drive_0\":0.0,\"index\":23},{\"drive_0\":0.0,\"index\":497},{\"drive_0\":0.0,\"index\":278},{\"drive_0\":0.0,\"index\":7},{\"drive_0\":0.0,\"index\":286},{\"drive_0\":0.0,\"index\":270},{\"drive_0\":0.0,\"index\":138},{\"drive_0\":0.0,\"index\":38},{\"drive_0\":0.0,\"index\":436},{\"drive_0\":1.0,\"index\":243},{\"drive_0\":0.0,\"index\":378},{\"drive_0\":1.0,\"index\":195},{\"drive_0\":1.0,\"index\":92},{\"drive_0\":1.0,\"index\":12},{\"drive_0\":1.0,\"index\":316},{\"drive_0\":1.0,\"index\":403},{\"drive_0\":1.0,\"index\":268},{\"drive_0\":1.0,\"index\":55},{\"drive_0\":1.0,\"index\":315},{\"drive_0\":1.0,\"index\":162},{\"drive_0\":1.0,\"index\":358},{\"drive_0\":0.0,\"index\":197},{\"drive_0\":1.0,\"index\":135},{\"drive_0\":1.0,\"index\":64},{\"drive_0\":1.0,\"index\":128},{\"drive_0\":1.0,\"index\":293},{\"drive_0\":1.0,\"index\":11},{\"drive_0\":1.0,\"index\":126},{\"drive_0\":1.0,\"index\":483},{\"drive_0\":1.0,\"index\":484},{\"drive_0\":1.0,\"index\":251},{\"drive_0\":1.0,\"index\":476},{\"drive_0\":1.0,\"index\":310},{\"drive_0\":1.0,\"index\":400},{\"drive_0\":1.0,\"index\":342},{\"drive_0\":0.0,\"index\":125},{\"drive_0\":1.0,\"index\":398},{\"drive_0\":1.0,\"index\":192},{\"drive_0\":1.0,\"index\":103}]', '[{\"Same\":492,\"index\":492},{\"Same\":181,\"index\":181},{\"Same\":485,\"index\":485},{\"Same\":330,\"index\":330},{\"Same\":480,\"index\":480},{\"Same\":166,\"index\":166},{\"Same\":62,\"index\":62},{\"Same\":150,\"index\":150},{\"Same\":375,\"index\":375},{\"Same\":71,\"index\":71},{\"Same\":27,\"index\":27},{\"Same\":431,\"index\":431},{\"Same\":370,\"index\":370},{\"Same\":424,\"index\":424},{\"Same\":419,\"index\":419},{\"Same\":282,\"index\":282},{\"Same\":187,\"index\":187},{\"Same\":98,\"index\":98},{\"Same\":451,\"index\":451},{\"Same\":0,\"index\":0},{\"Same\":260,\"index\":260},{\"Same\":294,\"index\":294},{\"Same\":312,\"index\":312},{\"Same\":450,\"index\":450},{\"Same\":442,\"index\":442},{\"Same\":83,\"index\":83},{\"Same\":228,\"index\":228},{\"Same\":333,\"index\":333},{\"Same\":108,\"index\":108},{\"Same\":448,\"index\":448},{\"Same\":58,\"index\":58},{\"Same\":447,\"index\":447},{\"Same\":51,\"index\":51},{\"Same\":145,\"index\":145},{\"Same\":461,\"index\":461},{\"Same\":308,\"index\":308},{\"Same\":386,\"index\":386},{\"Same\":355,\"index\":355},{\"Same\":470,\"index\":470},{\"Same\":319,\"index\":319},{\"Same\":149,\"index\":149},{\"Same\":148,\"index\":148},{\"Same\":324,\"index\":324},{\"Same\":111,\"index\":111},{\"Same\":309,\"index\":309},{\"Same\":206,\"index\":206},{\"Same\":86,\"index\":86},{\"Same\":127,\"index\":127},{\"Same\":345,\"index\":345},{\"Same\":482,\"index\":482},{\"Same\":99,\"index\":99},{\"Same\":359,\"index\":359},{\"Same\":377,\"index\":377},{\"Same\":188,\"index\":188},{\"Same\":390,\"index\":390},{\"Same\":347,\"index\":347},{\"Same\":120,\"index\":120},{\"Same\":430,\"index\":430},{\"Same\":191,\"index\":191},{\"Same\":388,\"index\":388},{\"Same\":202,\"index\":202},{\"Same\":204,\"index\":204},{\"Same\":165,\"index\":165},{\"Same\":267,\"index\":267},{\"Same\":313,\"index\":313},{\"Same\":406,\"index\":406},{\"Same\":389,\"index\":389},{\"Same\":311,\"index\":311},{\"Same\":211,\"index\":211},{\"Same\":287,\"index\":287},{\"Same\":143,\"index\":143},{\"Same\":105,\"index\":105},{\"Same\":463,\"index\":463},{\"Same\":279,\"index\":279},{\"Same\":139,\"index\":139},{\"Same\":340,\"index\":340},{\"Same\":124,\"index\":124},{\"Same\":29,\"index\":29},{\"Same\":439,\"index\":439},{\"Same\":144,\"index\":144},{\"Same\":273,\"index\":273},{\"Same\":264,\"index\":264},{\"Same\":158,\"index\":158},{\"Same\":446,\"index\":446},{\"Same\":32,\"index\":32},{\"Same\":23,\"index\":23},{\"Same\":497,\"index\":497},{\"Same\":278,\"index\":278},{\"Same\":7,\"index\":7},{\"Same\":286,\"index\":286},{\"Same\":270,\"index\":270},{\"Same\":138,\"index\":138},{\"Same\":38,\"index\":38},{\"Same\":436,\"index\":436},{\"Same\":243,\"index\":243},{\"Same\":378,\"index\":378},{\"Same\":195,\"index\":195},{\"Same\":92,\"index\":92},{\"Same\":12,\"index\":12},{\"Same\":316,\"index\":316},{\"Same\":403,\"index\":403},{\"Same\":268,\"index\":268},{\"Same\":55,\"index\":55},{\"Same\":315,\"index\":315},{\"Same\":162,\"index\":162},{\"Same\":358,\"index\":358},{\"Same\":197,\"index\":197},{\"Same\":135,\"index\":135},{\"Same\":64,\"index\":64},{\"Same\":128,\"index\":128},{\"Same\":293,\"index\":293},{\"Same\":11,\"index\":11},{\"Same\":126,\"index\":126},{\"Same\":483,\"index\":483},{\"Same\":484,\"index\":484},{\"Same\":251,\"index\":251},{\"Same\":476,\"index\":476},{\"Same\":310,\"index\":310},{\"Same\":400,\"index\":400},{\"Same\":342,\"index\":342},{\"Same\":125,\"index\":125},{\"Same\":398,\"index\":398},{\"Same\":192,\"index\":192},{\"Same\":103,\"index\":103}]', '[{\"drive_1\":0.0,\"drive_0\":1.0},{\"drive_1\":0.0,\"drive_0\":1.0},{\"drive_1\":0.0,\"drive_0\":1.0},{\"drive_1\":0.0,\"drive_0\":1.0},{\"drive_1\":0.0,\"drive_0\":1.0},{\"drive_1\":0.0,\"drive_0\":1.0},{\"drive_1\":0.0,\"drive_0\":1.0},{\"drive_1\":0.0,\"drive_0\":1.0},{\"drive_1\":0.0,\"drive_0\":1.0},{\"drive_1\":0.0,\"drive_0\":1.0},{\"drive_1\":0.0,\"drive_0\":1.0},{\"drive_1\":0.0,\"drive_0\":1.0},{\"drive_1\":0.0,\"drive_0\":1.0},{\"drive_1\":0.0,\"drive_0\":1.0},{\"drive_1\":0.0,\"drive_0\":1.0},{\"drive_1\":0.0,\"drive_0\":1.0},{\"drive_1\":0.0,\"drive_0\":1.0},{\"drive_1\":0.0,\"drive_0\":1.0},{\"drive_1\":0.0,\"drive_0\":1.0},{\"drive_1\":0.0,\"drive_0\":1.0},{\"drive_1\":0.0,\"drive_0\":1.0},{\"drive_1\":0.0,\"drive_0\":1.0},{\"drive_1\":0.0,\"drive_0\":1.0},{\"drive_1\":0.0,\"drive_0\":1.0},{\"drive_1\":0.0,\"drive_0\":1.0},{\"drive_1\":0.0,\"drive_0\":1.0},{\"drive_1\":0.0,\"drive_0\":1.0},{\"drive_1\":0.0,\"drive_0\":1.0},{\"drive_1\":0.0,\"drive_0\":1.0},{\"drive_1\":0.0,\"drive_0\":1.0},{\"drive_1\":0.0,\"drive_0\":1.0},{\"drive_1\":1.0,\"drive_0\":0.0},{\"drive_1\":1.0,\"drive_0\":0.0},{\"drive_1\":1.0,\"drive_0\":0.0},{\"drive_1\":1.0,\"drive_0\":0.0},{\"drive_1\":1.0,\"drive_0\":0.0},{\"drive_1\":1.0,\"drive_0\":0.0},{\"drive_1\":1.0,\"drive_0\":0.0},{\"drive_1\":1.0,\"drive_0\":0.0},{\"drive_1\":1.0,\"drive_0\":0.0},{\"drive_1\":1.0,\"drive_0\":0.0},{\"drive_1\":1.0,\"drive_0\":0.0},{\"drive_1\":1.0,\"drive_0\":0.0},{\"drive_1\":1.0,\"drive_0\":0.0},{\"drive_1\":1.0,\"drive_0\":0.0},{\"drive_1\":1.0,\"drive_0\":0.0},{\"drive_1\":1.0,\"drive_0\":0.0},{\"drive_1\":1.0,\"drive_0\":0.0},{\"drive_1\":1.0,\"drive_0\":0.0},{\"drive_1\":1.0,\"drive_0\":0.0},{\"drive_1\":1.0,\"drive_0\":0.0},{\"drive_1\":1.0,\"drive_0\":0.0},{\"drive_1\":1.0,\"drive_0\":0.0},{\"drive_1\":1.0,\"drive_0\":0.0},{\"drive_1\":1.0,\"drive_0\":0.0},{\"drive_1\":1.0,\"drive_0\":0.0},{\"drive_1\":1.0,\"drive_0\":0.0},{\"drive_1\":1.0,\"drive_0\":0.0},{\"drive_1\":1.0,\"drive_0\":0.0},{\"drive_1\":1.0,\"drive_0\":0.0},{\"drive_1\":1.0,\"drive_0\":0.0},{\"drive_1\":1.0,\"drive_0\":0.0},{\"drive_1\":0.0,\"drive_0\":0.0},{\"drive_1\":0.0,\"drive_0\":0.0},{\"drive_1\":0.0,\"drive_0\":0.0},{\"drive_1\":0.0,\"drive_0\":0.0},{\"drive_1\":0.0,\"drive_0\":0.0},{\"drive_1\":0.0,\"drive_0\":0.0},{\"drive_1\":0.0,\"drive_0\":0.0},{\"drive_1\":0.0,\"drive_0\":0.0},{\"drive_1\":0.0,\"drive_0\":0.0},{\"drive_1\":0.0,\"drive_0\":0.0},{\"drive_1\":0.0,\"drive_0\":0.0},{\"drive_1\":0.0,\"drive_0\":0.0},{\"drive_1\":0.0,\"drive_0\":0.0},{\"drive_1\":0.0,\"drive_0\":0.0},{\"drive_1\":0.0,\"drive_0\":0.0},{\"drive_1\":0.0,\"drive_0\":0.0},{\"drive_1\":0.0,\"drive_0\":0.0},{\"drive_1\":0.0,\"drive_0\":0.0},{\"drive_1\":0.0,\"drive_0\":0.0},{\"drive_1\":0.0,\"drive_0\":0.0},{\"drive_1\":0.0,\"drive_0\":0.0},{\"drive_1\":0.0,\"drive_0\":0.0},{\"drive_1\":0.0,\"drive_0\":0.0},{\"drive_1\":0.0,\"drive_0\":0.0},{\"drive_1\":0.0,\"drive_0\":0.0},{\"drive_1\":0.0,\"drive_0\":0.0},{\"drive_1\":0.0,\"drive_0\":0.0},{\"drive_1\":0.0,\"drive_0\":0.0},{\"drive_1\":0.0,\"drive_0\":0.0},{\"drive_1\":0.0,\"drive_0\":0.0},{\"drive_1\":0.0,\"drive_0\":0.0},{\"drive_1\":1.0,\"drive_0\":0.0},{\"drive_1\":0.0,\"drive_0\":1.0},{\"drive_1\":1.0,\"drive_0\":0.0},{\"drive_1\":0.0,\"drive_0\":1.0},{\"drive_1\":0.0,\"drive_0\":1.0},{\"drive_1\":0.0,\"drive_0\":1.0},{\"drive_1\":0.0,\"drive_0\":1.0},{\"drive_1\":0.0,\"drive_0\":1.0},{\"drive_1\":0.0,\"drive_0\":1.0},{\"drive_1\":0.0,\"drive_0\":1.0},{\"drive_1\":0.0,\"drive_0\":1.0},{\"drive_1\":0.0,\"drive_0\":1.0},{\"drive_1\":0.0,\"drive_0\":1.0},{\"drive_1\":0.0,\"drive_0\":0.0},{\"drive_1\":0.0,\"drive_0\":1.0},{\"drive_1\":0.0,\"drive_0\":1.0},{\"drive_1\":0.0,\"drive_0\":1.0},{\"drive_1\":0.0,\"drive_0\":1.0},{\"drive_1\":0.0,\"drive_0\":1.0},{\"drive_1\":0.0,\"drive_0\":1.0},{\"drive_1\":0.0,\"drive_0\":1.0},{\"drive_1\":0.0,\"drive_0\":1.0},{\"drive_1\":0.0,\"drive_0\":1.0},{\"drive_1\":0.0,\"drive_0\":1.0},{\"drive_1\":0.0,\"drive_0\":1.0},{\"drive_1\":0.0,\"drive_0\":1.0},{\"drive_1\":0.0,\"drive_0\":1.0},{\"drive_1\":1.0,\"drive_0\":0.0},{\"drive_1\":0.0,\"drive_0\":1.0},{\"drive_1\":0.0,\"drive_0\":1.0},{\"drive_1\":0.0,\"drive_0\":1.0}]', '[{\"Same\":1.0,\"drive_0\":1.0},{\"Same\":1.0,\"drive_0\":1.0},{\"Same\":1.0,\"drive_0\":1.0},{\"Same\":1.0,\"drive_0\":1.0},{\"Same\":1.0,\"drive_0\":1.0},{\"Same\":1.0,\"drive_0\":1.0},{\"Same\":1.0,\"drive_0\":1.0},{\"Same\":1.0,\"drive_0\":1.0},{\"Same\":1.0,\"drive_0\":1.0},{\"Same\":1.0,\"drive_0\":1.0},{\"Same\":1.0,\"drive_0\":1.0},{\"Same\":1.0,\"drive_0\":1.0},{\"Same\":1.0,\"drive_0\":1.0},{\"Same\":1.0,\"drive_0\":1.0},{\"Same\":1.0,\"drive_0\":1.0},{\"Same\":1.0,\"drive_0\":1.0},{\"Same\":1.0,\"drive_0\":1.0},{\"Same\":1.0,\"drive_0\":1.0},{\"Same\":1.0,\"drive_0\":1.0},{\"Same\":1.0,\"drive_0\":1.0},{\"Same\":1.0,\"drive_0\":1.0},{\"Same\":1.0,\"drive_0\":1.0},{\"Same\":1.0,\"drive_0\":1.0},{\"Same\":1.0,\"drive_0\":1.0},{\"Same\":1.0,\"drive_0\":1.0},{\"Same\":1.0,\"drive_0\":1.0},{\"Same\":1.0,\"drive_0\":1.0},{\"Same\":1.0,\"drive_0\":1.0},{\"Same\":1.0,\"drive_0\":1.0},{\"Same\":1.0,\"drive_0\":1.0},{\"Same\":1.0,\"drive_0\":1.0},{\"Same\":0.0,\"drive_0\":0.0},{\"Same\":0.0,\"drive_0\":0.0},{\"Same\":0.0,\"drive_0\":0.0},{\"Same\":0.0,\"drive_0\":0.0},{\"Same\":0.0,\"drive_0\":0.0},{\"Same\":0.0,\"drive_0\":0.0},{\"Same\":0.0,\"drive_0\":0.0},{\"Same\":0.0,\"drive_0\":0.0},{\"Same\":0.0,\"drive_0\":0.0},{\"Same\":0.0,\"drive_0\":0.0},{\"Same\":0.0,\"drive_0\":0.0},{\"Same\":0.0,\"drive_0\":0.0},{\"Same\":0.0,\"drive_0\":0.0},{\"Same\":0.0,\"drive_0\":0.0},{\"Same\":0.0,\"drive_0\":0.0},{\"Same\":0.0,\"drive_0\":0.0},{\"Same\":0.0,\"drive_0\":0.0},{\"Same\":0.0,\"drive_0\":0.0},{\"Same\":0.0,\"drive_0\":0.0},{\"Same\":0.0,\"drive_0\":0.0},{\"Same\":0.0,\"drive_0\":0.0},{\"Same\":0.0,\"drive_0\":0.0},{\"Same\":0.0,\"drive_0\":0.0},{\"Same\":0.0,\"drive_0\":0.0},{\"Same\":0.0,\"drive_0\":0.0},{\"Same\":0.0,\"drive_0\":0.0},{\"Same\":0.0,\"drive_0\":0.0},{\"Same\":0.0,\"drive_0\":0.0},{\"Same\":0.0,\"drive_0\":0.0},{\"Same\":0.0,\"drive_0\":0.0},{\"Same\":0.0,\"drive_0\":0.0},{\"Same\":0.0,\"drive_0\":0.0},{\"Same\":0.0,\"drive_0\":0.0},{\"Same\":0.0,\"drive_0\":0.0},{\"Same\":0.0,\"drive_0\":0.0},{\"Same\":0.0,\"drive_0\":0.0},{\"Same\":0.0,\"drive_0\":0.0},{\"Same\":0.0,\"drive_0\":0.0},{\"Same\":0.0,\"drive_0\":0.0},{\"Same\":0.0,\"drive_0\":0.0},{\"Same\":0.0,\"drive_0\":0.0},{\"Same\":0.0,\"drive_0\":0.0},{\"Same\":0.0,\"drive_0\":0.0},{\"Same\":0.0,\"drive_0\":0.0},{\"Same\":0.0,\"drive_0\":0.0},{\"Same\":0.0,\"drive_0\":0.0},{\"Same\":0.0,\"drive_0\":0.0},{\"Same\":0.0,\"drive_0\":0.0},{\"Same\":0.0,\"drive_0\":0.0},{\"Same\":0.0,\"drive_0\":0.0},{\"Same\":0.0,\"drive_0\":0.0},{\"Same\":0.0,\"drive_0\":0.0},{\"Same\":0.0,\"drive_0\":0.0},{\"Same\":0.0,\"drive_0\":0.0},{\"Same\":0.0,\"drive_0\":0.0},{\"Same\":0.0,\"drive_0\":0.0},{\"Same\":0.0,\"drive_0\":0.0},{\"Same\":0.0,\"drive_0\":0.0},{\"Same\":0.0,\"drive_0\":0.0},{\"Same\":0.0,\"drive_0\":0.0},{\"Same\":0.0,\"drive_0\":0.0},{\"Same\":0.0,\"drive_0\":0.0},{\"Same\":0.0,\"drive_0\":0.0},{\"Same\":1.0,\"drive_0\":1.0},{\"Same\":0.0,\"drive_0\":0.0},{\"Same\":1.0,\"drive_0\":1.0},{\"Same\":1.0,\"drive_0\":1.0},{\"Same\":1.0,\"drive_0\":1.0},{\"Same\":1.0,\"drive_0\":1.0},{\"Same\":1.0,\"drive_0\":1.0},{\"Same\":1.0,\"drive_0\":1.0},{\"Same\":1.0,\"drive_0\":1.0},{\"Same\":1.0,\"drive_0\":1.0},{\"Same\":1.0,\"drive_0\":1.0},{\"Same\":1.0,\"drive_0\":1.0},{\"Same\":0.0,\"drive_0\":0.0},{\"Same\":1.0,\"drive_0\":1.0},{\"Same\":1.0,\"drive_0\":1.0},{\"Same\":1.0,\"drive_0\":1.0},{\"Same\":1.0,\"drive_0\":1.0},{\"Same\":1.0,\"drive_0\":1.0},{\"Same\":1.0,\"drive_0\":1.0},{\"Same\":1.0,\"drive_0\":1.0},{\"Same\":1.0,\"drive_0\":1.0},{\"Same\":1.0,\"drive_0\":1.0},{\"Same\":1.0,\"drive_0\":1.0},{\"Same\":1.0,\"drive_0\":1.0},{\"Same\":1.0,\"drive_0\":1.0},{\"Same\":1.0,\"drive_0\":1.0},{\"Same\":0.0,\"drive_0\":0.0},{\"Same\":1.0,\"drive_0\":1.0},{\"Same\":1.0,\"drive_0\":1.0},{\"Same\":1.0,\"drive_0\":1.0}]', '[{\"index\":492,\"drive_0\":1.0},{\"index\":181,\"drive_0\":1.0},{\"index\":485,\"drive_0\":1.0},{\"index\":330,\"drive_0\":1.0},{\"index\":480,\"drive_0\":1.0},{\"index\":166,\"drive_0\":1.0},{\"index\":62,\"drive_0\":1.0},{\"index\":150,\"drive_0\":1.0},{\"index\":375,\"drive_0\":1.0},{\"index\":71,\"drive_0\":1.0},{\"index\":27,\"drive_0\":1.0},{\"index\":431,\"drive_0\":1.0},{\"index\":370,\"drive_0\":1.0},{\"index\":424,\"drive_0\":1.0},{\"index\":419,\"drive_0\":1.0},{\"index\":282,\"drive_0\":1.0},{\"index\":187,\"drive_0\":1.0},{\"index\":98,\"drive_0\":1.0},{\"index\":451,\"drive_0\":1.0},{\"index\":0,\"drive_0\":1.0},{\"index\":260,\"drive_0\":1.0},{\"index\":294,\"drive_0\":1.0},{\"index\":312,\"drive_0\":1.0},{\"index\":450,\"drive_0\":1.0},{\"index\":442,\"drive_0\":1.0},{\"index\":83,\"drive_0\":1.0},{\"index\":228,\"drive_0\":1.0},{\"index\":333,\"drive_0\":1.0},{\"index\":108,\"drive_0\":1.0},{\"index\":448,\"drive_0\":1.0},{\"index\":58,\"drive_0\":1.0},{\"index\":447,\"drive_0\":0.0},{\"index\":51,\"drive_0\":0.0},{\"index\":145,\"drive_0\":0.0},{\"index\":461,\"drive_0\":0.0},{\"index\":308,\"drive_0\":0.0},{\"index\":386,\"drive_0\":0.0},{\"index\":355,\"drive_0\":0.0},{\"index\":470,\"drive_0\":0.0},{\"index\":319,\"drive_0\":0.0},{\"index\":149,\"drive_0\":0.0},{\"index\":148,\"drive_0\":0.0},{\"index\":324,\"drive_0\":0.0},{\"index\":111,\"drive_0\":0.0},{\"index\":309,\"drive_0\":0.0},{\"index\":206,\"drive_0\":0.0},{\"index\":86,\"drive_0\":0.0},{\"index\":127,\"drive_0\":0.0},{\"index\":345,\"drive_0\":0.0},{\"index\":482,\"drive_0\":0.0},{\"index\":99,\"drive_0\":0.0},{\"index\":359,\"drive_0\":0.0},{\"index\":377,\"drive_0\":0.0},{\"index\":188,\"drive_0\":0.0},{\"index\":390,\"drive_0\":0.0},{\"index\":347,\"drive_0\":0.0},{\"index\":120,\"drive_0\":0.0},{\"index\":430,\"drive_0\":0.0},{\"index\":191,\"drive_0\":0.0},{\"index\":388,\"drive_0\":0.0},{\"index\":202,\"drive_0\":0.0},{\"index\":204,\"drive_0\":0.0},{\"index\":165,\"drive_0\":0.0},{\"index\":267,\"drive_0\":0.0},{\"index\":313,\"drive_0\":0.0},{\"index\":406,\"drive_0\":0.0},{\"index\":389,\"drive_0\":0.0},{\"index\":311,\"drive_0\":0.0},{\"index\":211,\"drive_0\":0.0},{\"index\":287,\"drive_0\":0.0},{\"index\":143,\"drive_0\":0.0},{\"index\":105,\"drive_0\":0.0},{\"index\":463,\"drive_0\":0.0},{\"index\":279,\"drive_0\":0.0},{\"index\":139,\"drive_0\":0.0},{\"index\":340,\"drive_0\":0.0},{\"index\":124,\"drive_0\":0.0},{\"index\":29,\"drive_0\":0.0},{\"index\":439,\"drive_0\":0.0},{\"index\":144,\"drive_0\":0.0},{\"index\":273,\"drive_0\":0.0},{\"index\":264,\"drive_0\":0.0},{\"index\":158,\"drive_0\":0.0},{\"index\":446,\"drive_0\":0.0},{\"index\":32,\"drive_0\":0.0},{\"index\":23,\"drive_0\":0.0},{\"index\":497,\"drive_0\":0.0},{\"index\":278,\"drive_0\":0.0},{\"index\":7,\"drive_0\":0.0},{\"index\":286,\"drive_0\":0.0},{\"index\":270,\"drive_0\":0.0},{\"index\":138,\"drive_0\":0.0},{\"index\":38,\"drive_0\":0.0},{\"index\":436,\"drive_0\":0.0},{\"index\":243,\"drive_0\":1.0},{\"index\":378,\"drive_0\":0.0},{\"index\":195,\"drive_0\":1.0},{\"index\":92,\"drive_0\":1.0},{\"index\":12,\"drive_0\":1.0},{\"index\":316,\"drive_0\":1.0},{\"index\":403,\"drive_0\":1.0},{\"index\":268,\"drive_0\":1.0},{\"index\":55,\"drive_0\":1.0},{\"index\":315,\"drive_0\":1.0},{\"index\":162,\"drive_0\":1.0},{\"index\":358,\"drive_0\":1.0},{\"index\":197,\"drive_0\":0.0},{\"index\":135,\"drive_0\":1.0},{\"index\":64,\"drive_0\":1.0},{\"index\":128,\"drive_0\":1.0},{\"index\":293,\"drive_0\":1.0},{\"index\":11,\"drive_0\":1.0},{\"index\":126,\"drive_0\":1.0},{\"index\":483,\"drive_0\":1.0},{\"index\":484,\"drive_0\":1.0},{\"index\":251,\"drive_0\":1.0},{\"index\":476,\"drive_0\":1.0},{\"index\":310,\"drive_0\":1.0},{\"index\":400,\"drive_0\":1.0},{\"index\":342,\"drive_0\":1.0},{\"index\":125,\"drive_0\":0.0},{\"index\":398,\"drive_0\":1.0},{\"index\":192,\"drive_0\":1.0},{\"index\":103,\"drive_0\":1.0}]', '[{\"Same\":0.0,\"drive_1\":0.0},{\"Same\":0.0,\"drive_1\":0.0},{\"Same\":0.0,\"drive_1\":0.0},{\"Same\":0.0,\"drive_1\":0.0},{\"Same\":0.0,\"drive_1\":0.0},{\"Same\":0.0,\"drive_1\":0.0},{\"Same\":0.0,\"drive_1\":0.0},{\"Same\":0.0,\"drive_1\":0.0},{\"Same\":0.0,\"drive_1\":0.0},{\"Same\":0.0,\"drive_1\":0.0},{\"Same\":0.0,\"drive_1\":0.0},{\"Same\":0.0,\"drive_1\":0.0},{\"Same\":0.0,\"drive_1\":0.0},{\"Same\":0.0,\"drive_1\":0.0},{\"Same\":0.0,\"drive_1\":0.0},{\"Same\":0.0,\"drive_1\":0.0},{\"Same\":0.0,\"drive_1\":0.0},{\"Same\":0.0,\"drive_1\":0.0},{\"Same\":0.0,\"drive_1\":0.0},{\"Same\":0.0,\"drive_1\":0.0},{\"Same\":0.0,\"drive_1\":0.0},{\"Same\":0.0,\"drive_1\":0.0},{\"Same\":0.0,\"drive_1\":0.0},{\"Same\":0.0,\"drive_1\":0.0},{\"Same\":0.0,\"drive_1\":0.0},{\"Same\":0.0,\"drive_1\":0.0},{\"Same\":0.0,\"drive_1\":0.0},{\"Same\":0.0,\"drive_1\":0.0},{\"Same\":0.0,\"drive_1\":0.0},{\"Same\":0.0,\"drive_1\":0.0},{\"Same\":0.0,\"drive_1\":0.0},{\"Same\":1.0,\"drive_1\":1.0},{\"Same\":1.0,\"drive_1\":1.0},{\"Same\":1.0,\"drive_1\":1.0},{\"Same\":1.0,\"drive_1\":1.0},{\"Same\":1.0,\"drive_1\":1.0},{\"Same\":1.0,\"drive_1\":1.0},{\"Same\":1.0,\"drive_1\":1.0},{\"Same\":1.0,\"drive_1\":1.0},{\"Same\":1.0,\"drive_1\":1.0},{\"Same\":1.0,\"drive_1\":1.0},{\"Same\":1.0,\"drive_1\":1.0},{\"Same\":1.0,\"drive_1\":1.0},{\"Same\":1.0,\"drive_1\":1.0},{\"Same\":1.0,\"drive_1\":1.0},{\"Same\":1.0,\"drive_1\":1.0},{\"Same\":1.0,\"drive_1\":1.0},{\"Same\":1.0,\"drive_1\":1.0},{\"Same\":1.0,\"drive_1\":1.0},{\"Same\":1.0,\"drive_1\":1.0},{\"Same\":1.0,\"drive_1\":1.0},{\"Same\":1.0,\"drive_1\":1.0},{\"Same\":1.0,\"drive_1\":1.0},{\"Same\":1.0,\"drive_1\":1.0},{\"Same\":1.0,\"drive_1\":1.0},{\"Same\":1.0,\"drive_1\":1.0},{\"Same\":1.0,\"drive_1\":1.0},{\"Same\":1.0,\"drive_1\":1.0},{\"Same\":1.0,\"drive_1\":1.0},{\"Same\":1.0,\"drive_1\":1.0},{\"Same\":1.0,\"drive_1\":1.0},{\"Same\":1.0,\"drive_1\":1.0},{\"Same\":0.0,\"drive_1\":0.0},{\"Same\":0.0,\"drive_1\":0.0},{\"Same\":0.0,\"drive_1\":0.0},{\"Same\":0.0,\"drive_1\":0.0},{\"Same\":0.0,\"drive_1\":0.0},{\"Same\":0.0,\"drive_1\":0.0},{\"Same\":0.0,\"drive_1\":0.0},{\"Same\":0.0,\"drive_1\":0.0},{\"Same\":0.0,\"drive_1\":0.0},{\"Same\":0.0,\"drive_1\":0.0},{\"Same\":0.0,\"drive_1\":0.0},{\"Same\":0.0,\"drive_1\":0.0},{\"Same\":0.0,\"drive_1\":0.0},{\"Same\":0.0,\"drive_1\":0.0},{\"Same\":0.0,\"drive_1\":0.0},{\"Same\":0.0,\"drive_1\":0.0},{\"Same\":0.0,\"drive_1\":0.0},{\"Same\":0.0,\"drive_1\":0.0},{\"Same\":0.0,\"drive_1\":0.0},{\"Same\":0.0,\"drive_1\":0.0},{\"Same\":0.0,\"drive_1\":0.0},{\"Same\":0.0,\"drive_1\":0.0},{\"Same\":0.0,\"drive_1\":0.0},{\"Same\":0.0,\"drive_1\":0.0},{\"Same\":0.0,\"drive_1\":0.0},{\"Same\":0.0,\"drive_1\":0.0},{\"Same\":0.0,\"drive_1\":0.0},{\"Same\":0.0,\"drive_1\":0.0},{\"Same\":0.0,\"drive_1\":0.0},{\"Same\":0.0,\"drive_1\":0.0},{\"Same\":0.0,\"drive_1\":0.0},{\"Same\":1.0,\"drive_1\":1.0},{\"Same\":0.0,\"drive_1\":0.0},{\"Same\":1.0,\"drive_1\":1.0},{\"Same\":0.0,\"drive_1\":0.0},{\"Same\":0.0,\"drive_1\":0.0},{\"Same\":0.0,\"drive_1\":0.0},{\"Same\":0.0,\"drive_1\":0.0},{\"Same\":0.0,\"drive_1\":0.0},{\"Same\":0.0,\"drive_1\":0.0},{\"Same\":0.0,\"drive_1\":0.0},{\"Same\":0.0,\"drive_1\":0.0},{\"Same\":0.0,\"drive_1\":0.0},{\"Same\":0.0,\"drive_1\":0.0},{\"Same\":0.0,\"drive_1\":0.0},{\"Same\":0.0,\"drive_1\":0.0},{\"Same\":0.0,\"drive_1\":0.0},{\"Same\":0.0,\"drive_1\":0.0},{\"Same\":0.0,\"drive_1\":0.0},{\"Same\":0.0,\"drive_1\":0.0},{\"Same\":0.0,\"drive_1\":0.0},{\"Same\":0.0,\"drive_1\":0.0},{\"Same\":0.0,\"drive_1\":0.0},{\"Same\":0.0,\"drive_1\":0.0},{\"Same\":0.0,\"drive_1\":0.0},{\"Same\":0.0,\"drive_1\":0.0},{\"Same\":0.0,\"drive_1\":0.0},{\"Same\":0.0,\"drive_1\":0.0},{\"Same\":1.0,\"drive_1\":1.0},{\"Same\":0.0,\"drive_1\":0.0},{\"Same\":0.0,\"drive_1\":0.0},{\"Same\":0.0,\"drive_1\":0.0}]', '[{\"drive_0\":1.0,\"drive_1\":0.0},{\"drive_0\":1.0,\"drive_1\":0.0},{\"drive_0\":1.0,\"drive_1\":0.0},{\"drive_0\":1.0,\"drive_1\":0.0},{\"drive_0\":1.0,\"drive_1\":0.0},{\"drive_0\":1.0,\"drive_1\":0.0},{\"drive_0\":1.0,\"drive_1\":0.0},{\"drive_0\":1.0,\"drive_1\":0.0},{\"drive_0\":1.0,\"drive_1\":0.0},{\"drive_0\":1.0,\"drive_1\":0.0},{\"drive_0\":1.0,\"drive_1\":0.0},{\"drive_0\":1.0,\"drive_1\":0.0},{\"drive_0\":1.0,\"drive_1\":0.0},{\"drive_0\":1.0,\"drive_1\":0.0},{\"drive_0\":1.0,\"drive_1\":0.0},{\"drive_0\":1.0,\"drive_1\":0.0},{\"drive_0\":1.0,\"drive_1\":0.0},{\"drive_0\":1.0,\"drive_1\":0.0},{\"drive_0\":1.0,\"drive_1\":0.0},{\"drive_0\":1.0,\"drive_1\":0.0},{\"drive_0\":1.0,\"drive_1\":0.0},{\"drive_0\":1.0,\"drive_1\":0.0},{\"drive_0\":1.0,\"drive_1\":0.0},{\"drive_0\":1.0,\"drive_1\":0.0},{\"drive_0\":1.0,\"drive_1\":0.0},{\"drive_0\":1.0,\"drive_1\":0.0},{\"drive_0\":1.0,\"drive_1\":0.0},{\"drive_0\":1.0,\"drive_1\":0.0},{\"drive_0\":1.0,\"drive_1\":0.0},{\"drive_0\":1.0,\"drive_1\":0.0},{\"drive_0\":1.0,\"drive_1\":0.0},{\"drive_0\":0.0,\"drive_1\":1.0},{\"drive_0\":0.0,\"drive_1\":1.0},{\"drive_0\":0.0,\"drive_1\":1.0},{\"drive_0\":0.0,\"drive_1\":1.0},{\"drive_0\":0.0,\"drive_1\":1.0},{\"drive_0\":0.0,\"drive_1\":1.0},{\"drive_0\":0.0,\"drive_1\":1.0},{\"drive_0\":0.0,\"drive_1\":1.0},{\"drive_0\":0.0,\"drive_1\":1.0},{\"drive_0\":0.0,\"drive_1\":1.0},{\"drive_0\":0.0,\"drive_1\":1.0},{\"drive_0\":0.0,\"drive_1\":1.0},{\"drive_0\":0.0,\"drive_1\":1.0},{\"drive_0\":0.0,\"drive_1\":1.0},{\"drive_0\":0.0,\"drive_1\":1.0},{\"drive_0\":0.0,\"drive_1\":1.0},{\"drive_0\":0.0,\"drive_1\":1.0},{\"drive_0\":0.0,\"drive_1\":1.0},{\"drive_0\":0.0,\"drive_1\":1.0},{\"drive_0\":0.0,\"drive_1\":1.0},{\"drive_0\":0.0,\"drive_1\":1.0},{\"drive_0\":0.0,\"drive_1\":1.0},{\"drive_0\":0.0,\"drive_1\":1.0},{\"drive_0\":0.0,\"drive_1\":1.0},{\"drive_0\":0.0,\"drive_1\":1.0},{\"drive_0\":0.0,\"drive_1\":1.0},{\"drive_0\":0.0,\"drive_1\":1.0},{\"drive_0\":0.0,\"drive_1\":1.0},{\"drive_0\":0.0,\"drive_1\":1.0},{\"drive_0\":0.0,\"drive_1\":1.0},{\"drive_0\":0.0,\"drive_1\":1.0},{\"drive_0\":0.0,\"drive_1\":0.0},{\"drive_0\":0.0,\"drive_1\":0.0},{\"drive_0\":0.0,\"drive_1\":0.0},{\"drive_0\":0.0,\"drive_1\":0.0},{\"drive_0\":0.0,\"drive_1\":0.0},{\"drive_0\":0.0,\"drive_1\":0.0},{\"drive_0\":0.0,\"drive_1\":0.0},{\"drive_0\":0.0,\"drive_1\":0.0},{\"drive_0\":0.0,\"drive_1\":0.0},{\"drive_0\":0.0,\"drive_1\":0.0},{\"drive_0\":0.0,\"drive_1\":0.0},{\"drive_0\":0.0,\"drive_1\":0.0},{\"drive_0\":0.0,\"drive_1\":0.0},{\"drive_0\":0.0,\"drive_1\":0.0},{\"drive_0\":0.0,\"drive_1\":0.0},{\"drive_0\":0.0,\"drive_1\":0.0},{\"drive_0\":0.0,\"drive_1\":0.0},{\"drive_0\":0.0,\"drive_1\":0.0},{\"drive_0\":0.0,\"drive_1\":0.0},{\"drive_0\":0.0,\"drive_1\":0.0},{\"drive_0\":0.0,\"drive_1\":0.0},{\"drive_0\":0.0,\"drive_1\":0.0},{\"drive_0\":0.0,\"drive_1\":0.0},{\"drive_0\":0.0,\"drive_1\":0.0},{\"drive_0\":0.0,\"drive_1\":0.0},{\"drive_0\":0.0,\"drive_1\":0.0},{\"drive_0\":0.0,\"drive_1\":0.0},{\"drive_0\":0.0,\"drive_1\":0.0},{\"drive_0\":0.0,\"drive_1\":0.0},{\"drive_0\":0.0,\"drive_1\":0.0},{\"drive_0\":0.0,\"drive_1\":0.0},{\"drive_0\":0.0,\"drive_1\":1.0},{\"drive_0\":1.0,\"drive_1\":0.0},{\"drive_0\":0.0,\"drive_1\":1.0},{\"drive_0\":1.0,\"drive_1\":0.0},{\"drive_0\":1.0,\"drive_1\":0.0},{\"drive_0\":1.0,\"drive_1\":0.0},{\"drive_0\":1.0,\"drive_1\":0.0},{\"drive_0\":1.0,\"drive_1\":0.0},{\"drive_0\":1.0,\"drive_1\":0.0},{\"drive_0\":1.0,\"drive_1\":0.0},{\"drive_0\":1.0,\"drive_1\":0.0},{\"drive_0\":1.0,\"drive_1\":0.0},{\"drive_0\":1.0,\"drive_1\":0.0},{\"drive_0\":0.0,\"drive_1\":0.0},{\"drive_0\":1.0,\"drive_1\":0.0},{\"drive_0\":1.0,\"drive_1\":0.0},{\"drive_0\":1.0,\"drive_1\":0.0},{\"drive_0\":1.0,\"drive_1\":0.0},{\"drive_0\":1.0,\"drive_1\":0.0},{\"drive_0\":1.0,\"drive_1\":0.0},{\"drive_0\":1.0,\"drive_1\":0.0},{\"drive_0\":1.0,\"drive_1\":0.0},{\"drive_0\":1.0,\"drive_1\":0.0},{\"drive_0\":1.0,\"drive_1\":0.0},{\"drive_0\":1.0,\"drive_1\":0.0},{\"drive_0\":1.0,\"drive_1\":0.0},{\"drive_0\":1.0,\"drive_1\":0.0},{\"drive_0\":0.0,\"drive_1\":1.0},{\"drive_0\":1.0,\"drive_1\":0.0},{\"drive_0\":1.0,\"drive_1\":0.0},{\"drive_0\":1.0,\"drive_1\":0.0}]', '[{\"index\":492,\"drive_1\":0.0},{\"index\":181,\"drive_1\":0.0},{\"index\":485,\"drive_1\":0.0},{\"index\":330,\"drive_1\":0.0},{\"index\":480,\"drive_1\":0.0},{\"index\":166,\"drive_1\":0.0},{\"index\":62,\"drive_1\":0.0},{\"index\":150,\"drive_1\":0.0},{\"index\":375,\"drive_1\":0.0},{\"index\":71,\"drive_1\":0.0},{\"index\":27,\"drive_1\":0.0},{\"index\":431,\"drive_1\":0.0},{\"index\":370,\"drive_1\":0.0},{\"index\":424,\"drive_1\":0.0},{\"index\":419,\"drive_1\":0.0},{\"index\":282,\"drive_1\":0.0},{\"index\":187,\"drive_1\":0.0},{\"index\":98,\"drive_1\":0.0},{\"index\":451,\"drive_1\":0.0},{\"index\":0,\"drive_1\":0.0},{\"index\":260,\"drive_1\":0.0},{\"index\":294,\"drive_1\":0.0},{\"index\":312,\"drive_1\":0.0},{\"index\":450,\"drive_1\":0.0},{\"index\":442,\"drive_1\":0.0},{\"index\":83,\"drive_1\":0.0},{\"index\":228,\"drive_1\":0.0},{\"index\":333,\"drive_1\":0.0},{\"index\":108,\"drive_1\":0.0},{\"index\":448,\"drive_1\":0.0},{\"index\":58,\"drive_1\":0.0},{\"index\":447,\"drive_1\":1.0},{\"index\":51,\"drive_1\":1.0},{\"index\":145,\"drive_1\":1.0},{\"index\":461,\"drive_1\":1.0},{\"index\":308,\"drive_1\":1.0},{\"index\":386,\"drive_1\":1.0},{\"index\":355,\"drive_1\":1.0},{\"index\":470,\"drive_1\":1.0},{\"index\":319,\"drive_1\":1.0},{\"index\":149,\"drive_1\":1.0},{\"index\":148,\"drive_1\":1.0},{\"index\":324,\"drive_1\":1.0},{\"index\":111,\"drive_1\":1.0},{\"index\":309,\"drive_1\":1.0},{\"index\":206,\"drive_1\":1.0},{\"index\":86,\"drive_1\":1.0},{\"index\":127,\"drive_1\":1.0},{\"index\":345,\"drive_1\":1.0},{\"index\":482,\"drive_1\":1.0},{\"index\":99,\"drive_1\":1.0},{\"index\":359,\"drive_1\":1.0},{\"index\":377,\"drive_1\":1.0},{\"index\":188,\"drive_1\":1.0},{\"index\":390,\"drive_1\":1.0},{\"index\":347,\"drive_1\":1.0},{\"index\":120,\"drive_1\":1.0},{\"index\":430,\"drive_1\":1.0},{\"index\":191,\"drive_1\":1.0},{\"index\":388,\"drive_1\":1.0},{\"index\":202,\"drive_1\":1.0},{\"index\":204,\"drive_1\":1.0},{\"index\":165,\"drive_1\":0.0},{\"index\":267,\"drive_1\":0.0},{\"index\":313,\"drive_1\":0.0},{\"index\":406,\"drive_1\":0.0},{\"index\":389,\"drive_1\":0.0},{\"index\":311,\"drive_1\":0.0},{\"index\":211,\"drive_1\":0.0},{\"index\":287,\"drive_1\":0.0},{\"index\":143,\"drive_1\":0.0},{\"index\":105,\"drive_1\":0.0},{\"index\":463,\"drive_1\":0.0},{\"index\":279,\"drive_1\":0.0},{\"index\":139,\"drive_1\":0.0},{\"index\":340,\"drive_1\":0.0},{\"index\":124,\"drive_1\":0.0},{\"index\":29,\"drive_1\":0.0},{\"index\":439,\"drive_1\":0.0},{\"index\":144,\"drive_1\":0.0},{\"index\":273,\"drive_1\":0.0},{\"index\":264,\"drive_1\":0.0},{\"index\":158,\"drive_1\":0.0},{\"index\":446,\"drive_1\":0.0},{\"index\":32,\"drive_1\":0.0},{\"index\":23,\"drive_1\":0.0},{\"index\":497,\"drive_1\":0.0},{\"index\":278,\"drive_1\":0.0},{\"index\":7,\"drive_1\":0.0},{\"index\":286,\"drive_1\":0.0},{\"index\":270,\"drive_1\":0.0},{\"index\":138,\"drive_1\":0.0},{\"index\":38,\"drive_1\":0.0},{\"index\":436,\"drive_1\":1.0},{\"index\":243,\"drive_1\":0.0},{\"index\":378,\"drive_1\":1.0},{\"index\":195,\"drive_1\":0.0},{\"index\":92,\"drive_1\":0.0},{\"index\":12,\"drive_1\":0.0},{\"index\":316,\"drive_1\":0.0},{\"index\":403,\"drive_1\":0.0},{\"index\":268,\"drive_1\":0.0},{\"index\":55,\"drive_1\":0.0},{\"index\":315,\"drive_1\":0.0},{\"index\":162,\"drive_1\":0.0},{\"index\":358,\"drive_1\":0.0},{\"index\":197,\"drive_1\":0.0},{\"index\":135,\"drive_1\":0.0},{\"index\":64,\"drive_1\":0.0},{\"index\":128,\"drive_1\":0.0},{\"index\":293,\"drive_1\":0.0},{\"index\":11,\"drive_1\":0.0},{\"index\":126,\"drive_1\":0.0},{\"index\":483,\"drive_1\":0.0},{\"index\":484,\"drive_1\":0.0},{\"index\":251,\"drive_1\":0.0},{\"index\":476,\"drive_1\":0.0},{\"index\":310,\"drive_1\":0.0},{\"index\":400,\"drive_1\":0.0},{\"index\":342,\"drive_1\":0.0},{\"index\":125,\"drive_1\":1.0},{\"index\":398,\"drive_1\":0.0},{\"index\":192,\"drive_1\":0.0},{\"index\":103,\"drive_1\":0.0}]']\n"
     ]
    }
   ],
   "source": [
    "print(createMatrixJSONObj(finaldata))"
   ]
  },
  {
   "cell_type": "code",
   "execution_count": 126,
   "metadata": {},
   "outputs": [
    {
     "ename": "TypeError",
     "evalue": "'str' object does not support item assignment",
     "output_type": "error",
     "traceback": [
      "\u001b[1;31m---------------------------------------------------------------------------\u001b[0m",
      "\u001b[1;31mTypeError\u001b[0m                                 Traceback (most recent call last)",
      "\u001b[1;32m<ipython-input-126-968e3159b0ed>\u001b[0m in \u001b[0;36m<module>\u001b[1;34m\u001b[0m\n\u001b[0;32m      1\u001b[0m \u001b[1;31m#new_dict = {item['name']:item for item in createMatrixJSONObj(finaldata)}\u001b[0m\u001b[1;33m\u001b[0m\u001b[1;33m\u001b[0m\u001b[1;33m\u001b[0m\u001b[0m\n\u001b[0;32m      2\u001b[0m \u001b[0mqwe\u001b[0m \u001b[1;33m=\u001b[0m \u001b[0mfinaldata\u001b[0m\u001b[1;33m.\u001b[0m\u001b[0miloc\u001b[0m\u001b[1;33m[\u001b[0m\u001b[1;33m:\u001b[0m\u001b[1;33m,\u001b[0m \u001b[1;33m[\u001b[0m\u001b[1;36m2\u001b[0m\u001b[1;33m,\u001b[0m \u001b[1;36m0\u001b[0m\u001b[1;33m]\u001b[0m\u001b[1;33m]\u001b[0m\u001b[1;33m.\u001b[0m\u001b[0mto_json\u001b[0m\u001b[1;33m(\u001b[0m\u001b[0morient\u001b[0m\u001b[1;33m=\u001b[0m\u001b[1;34m'records'\u001b[0m\u001b[1;33m)\u001b[0m\u001b[1;33m\u001b[0m\u001b[1;33m\u001b[0m\u001b[0m\n\u001b[1;32m----> 3\u001b[1;33m \u001b[0mqwe\u001b[0m\u001b[1;33m[\u001b[0m\u001b[1;36m0\u001b[0m\u001b[1;33m]\u001b[0m \u001b[1;33m=\u001b[0m \u001b[1;34m'{'\u001b[0m\u001b[1;33m\u001b[0m\u001b[1;33m\u001b[0m\u001b[0m\n\u001b[0m",
      "\u001b[1;31mTypeError\u001b[0m: 'str' object does not support item assignment"
     ]
    }
   ],
   "source": [
    "#new_dict = {item['name']:item for item in createMatrixJSONObj(finaldata)}\n",
    "qwe = finaldata.iloc[:, [2, 0]].to_json(orient='records')\n",
    "qwe[0] = '{'"
   ]
  },
  {
   "cell_type": "code",
   "execution_count": 127,
   "metadata": {},
   "outputs": [
    {
     "data": {
      "text/plain": [
       "'[{\"fuel_1\":1.0,\"drive_0\":1.0},{\"fuel_1\":1.0,\"drive_0\":1.0},{\"fuel_1\":1.0,\"drive_0\":1.0},{\"fuel_1\":1.0,\"drive_0\":1.0},{\"fuel_1\":1.0,\"drive_0\":1.0},{\"fuel_1\":1.0,\"drive_0\":1.0},{\"fuel_1\":1.0,\"drive_0\":1.0},{\"fuel_1\":1.0,\"drive_0\":1.0},{\"fuel_1\":1.0,\"drive_0\":1.0},{\"fuel_1\":1.0,\"drive_0\":1.0},{\"fuel_1\":1.0,\"drive_0\":1.0},{\"fuel_1\":1.0,\"drive_0\":1.0},{\"fuel_1\":1.0,\"drive_0\":1.0},{\"fuel_1\":1.0,\"drive_0\":1.0},{\"fuel_1\":1.0,\"drive_0\":1.0},{\"fuel_1\":1.0,\"drive_0\":1.0},{\"fuel_1\":1.0,\"drive_0\":1.0},{\"fuel_1\":1.0,\"drive_0\":1.0},{\"fuel_1\":1.0,\"drive_0\":1.0},{\"fuel_1\":1.0,\"drive_0\":1.0},{\"fuel_1\":1.0,\"drive_0\":1.0},{\"fuel_1\":1.0,\"drive_0\":1.0},{\"fuel_1\":1.0,\"drive_0\":1.0},{\"fuel_1\":1.0,\"drive_0\":1.0},{\"fuel_1\":1.0,\"drive_0\":1.0},{\"fuel_1\":1.0,\"drive_0\":1.0},{\"fuel_1\":1.0,\"drive_0\":1.0},{\"fuel_1\":1.0,\"drive_0\":1.0},{\"fuel_1\":1.0,\"drive_0\":1.0},{\"fuel_1\":1.0,\"drive_0\":1.0},{\"fuel_1\":1.0,\"drive_0\":1.0},{\"fuel_1\":1.0,\"drive_0\":0.0},{\"fuel_1\":1.0,\"drive_0\":0.0},{\"fuel_1\":1.0,\"drive_0\":0.0},{\"fuel_1\":1.0,\"drive_0\":0.0},{\"fuel_1\":1.0,\"drive_0\":0.0},{\"fuel_1\":1.0,\"drive_0\":0.0},{\"fuel_1\":1.0,\"drive_0\":0.0},{\"fuel_1\":1.0,\"drive_0\":0.0},{\"fuel_1\":1.0,\"drive_0\":0.0},{\"fuel_1\":1.0,\"drive_0\":0.0},{\"fuel_1\":1.0,\"drive_0\":0.0},{\"fuel_1\":1.0,\"drive_0\":0.0},{\"fuel_1\":1.0,\"drive_0\":0.0},{\"fuel_1\":1.0,\"drive_0\":0.0},{\"fuel_1\":1.0,\"drive_0\":0.0},{\"fuel_1\":1.0,\"drive_0\":0.0},{\"fuel_1\":1.0,\"drive_0\":0.0},{\"fuel_1\":1.0,\"drive_0\":0.0},{\"fuel_1\":1.0,\"drive_0\":0.0},{\"fuel_1\":1.0,\"drive_0\":0.0},{\"fuel_1\":1.0,\"drive_0\":0.0},{\"fuel_1\":1.0,\"drive_0\":0.0},{\"fuel_1\":1.0,\"drive_0\":0.0},{\"fuel_1\":0.0,\"drive_0\":0.0},{\"fuel_1\":1.0,\"drive_0\":0.0},{\"fuel_1\":1.0,\"drive_0\":0.0},{\"fuel_1\":1.0,\"drive_0\":0.0},{\"fuel_1\":1.0,\"drive_0\":0.0},{\"fuel_1\":1.0,\"drive_0\":0.0},{\"fuel_1\":1.0,\"drive_0\":0.0},{\"fuel_1\":1.0,\"drive_0\":0.0},{\"fuel_1\":0.0,\"drive_0\":0.0},{\"fuel_1\":1.0,\"drive_0\":0.0},{\"fuel_1\":1.0,\"drive_0\":0.0},{\"fuel_1\":1.0,\"drive_0\":0.0},{\"fuel_1\":1.0,\"drive_0\":0.0},{\"fuel_1\":1.0,\"drive_0\":0.0},{\"fuel_1\":1.0,\"drive_0\":0.0},{\"fuel_1\":1.0,\"drive_0\":0.0},{\"fuel_1\":1.0,\"drive_0\":0.0},{\"fuel_1\":1.0,\"drive_0\":0.0},{\"fuel_1\":1.0,\"drive_0\":0.0},{\"fuel_1\":1.0,\"drive_0\":0.0},{\"fuel_1\":1.0,\"drive_0\":0.0},{\"fuel_1\":1.0,\"drive_0\":0.0},{\"fuel_1\":1.0,\"drive_0\":0.0},{\"fuel_1\":1.0,\"drive_0\":0.0},{\"fuel_1\":1.0,\"drive_0\":0.0},{\"fuel_1\":1.0,\"drive_0\":0.0},{\"fuel_1\":1.0,\"drive_0\":0.0},{\"fuel_1\":1.0,\"drive_0\":0.0},{\"fuel_1\":1.0,\"drive_0\":0.0},{\"fuel_1\":0.0,\"drive_0\":0.0},{\"fuel_1\":1.0,\"drive_0\":0.0},{\"fuel_1\":1.0,\"drive_0\":0.0},{\"fuel_1\":1.0,\"drive_0\":0.0},{\"fuel_1\":1.0,\"drive_0\":0.0},{\"fuel_1\":1.0,\"drive_0\":0.0},{\"fuel_1\":1.0,\"drive_0\":0.0},{\"fuel_1\":1.0,\"drive_0\":0.0},{\"fuel_1\":1.0,\"drive_0\":0.0},{\"fuel_1\":1.0,\"drive_0\":0.0},{\"fuel_1\":0.0,\"drive_0\":0.0},{\"fuel_1\":0.0,\"drive_0\":1.0},{\"fuel_1\":0.0,\"drive_0\":0.0},{\"fuel_1\":0.0,\"drive_0\":1.0},{\"fuel_1\":0.0,\"drive_0\":1.0},{\"fuel_1\":0.0,\"drive_0\":1.0},{\"fuel_1\":0.0,\"drive_0\":1.0},{\"fuel_1\":0.0,\"drive_0\":1.0},{\"fuel_1\":0.0,\"drive_0\":1.0},{\"fuel_1\":0.0,\"drive_0\":1.0},{\"fuel_1\":0.0,\"drive_0\":1.0},{\"fuel_1\":0.0,\"drive_0\":1.0},{\"fuel_1\":0.0,\"drive_0\":1.0},{\"fuel_1\":0.0,\"drive_0\":0.0},{\"fuel_1\":0.0,\"drive_0\":1.0},{\"fuel_1\":0.0,\"drive_0\":1.0},{\"fuel_1\":0.0,\"drive_0\":1.0},{\"fuel_1\":0.0,\"drive_0\":1.0},{\"fuel_1\":0.0,\"drive_0\":1.0},{\"fuel_1\":0.0,\"drive_0\":1.0},{\"fuel_1\":0.0,\"drive_0\":1.0},{\"fuel_1\":0.0,\"drive_0\":1.0},{\"fuel_1\":0.0,\"drive_0\":1.0},{\"fuel_1\":0.0,\"drive_0\":1.0},{\"fuel_1\":0.0,\"drive_0\":1.0},{\"fuel_1\":0.0,\"drive_0\":1.0},{\"fuel_1\":0.0,\"drive_0\":1.0},{\"fuel_1\":0.0,\"drive_0\":0.0},{\"fuel_1\":0.0,\"drive_0\":1.0},{\"fuel_1\":0.0,\"drive_0\":1.0},{\"fuel_1\":0.0,\"drive_0\":1.0}]'"
      ]
     },
     "execution_count": 127,
     "metadata": {},
     "output_type": "execute_result"
    }
   ],
   "source": [
    "finaldata.iloc[:, [2, 0]].to_json(orient='records')"
   ]
  },
  {
   "cell_type": "code",
   "execution_count": 93,
   "metadata": {},
   "outputs": [
    {
     "data": {
      "text/html": [
       "<div>\n",
       "<style scoped>\n",
       "    .dataframe tbody tr th:only-of-type {\n",
       "        vertical-align: middle;\n",
       "    }\n",
       "\n",
       "    .dataframe tbody tr th {\n",
       "        vertical-align: top;\n",
       "    }\n",
       "\n",
       "    .dataframe thead th {\n",
       "        text-align: right;\n",
       "    }\n",
       "</style>\n",
       "<table border=\"1\" class=\"dataframe\">\n",
       "  <thead>\n",
       "    <tr style=\"text-align: right;\">\n",
       "      <th></th>\n",
       "      <th>fuel_1</th>\n",
       "      <th>drive_0</th>\n",
       "    </tr>\n",
       "  </thead>\n",
       "  <tbody>\n",
       "    <tr>\n",
       "      <td>0</td>\n",
       "      <td>1.0</td>\n",
       "      <td>1.0</td>\n",
       "    </tr>\n",
       "    <tr>\n",
       "      <td>1</td>\n",
       "      <td>1.0</td>\n",
       "      <td>1.0</td>\n",
       "    </tr>\n",
       "    <tr>\n",
       "      <td>2</td>\n",
       "      <td>1.0</td>\n",
       "      <td>1.0</td>\n",
       "    </tr>\n",
       "    <tr>\n",
       "      <td>3</td>\n",
       "      <td>1.0</td>\n",
       "      <td>1.0</td>\n",
       "    </tr>\n",
       "    <tr>\n",
       "      <td>4</td>\n",
       "      <td>1.0</td>\n",
       "      <td>1.0</td>\n",
       "    </tr>\n",
       "    <tr>\n",
       "      <td>...</td>\n",
       "      <td>...</td>\n",
       "      <td>...</td>\n",
       "    </tr>\n",
       "    <tr>\n",
       "      <td>119</td>\n",
       "      <td>0.0</td>\n",
       "      <td>1.0</td>\n",
       "    </tr>\n",
       "    <tr>\n",
       "      <td>120</td>\n",
       "      <td>0.0</td>\n",
       "      <td>1.0</td>\n",
       "    </tr>\n",
       "    <tr>\n",
       "      <td>121</td>\n",
       "      <td>0.0</td>\n",
       "      <td>1.0</td>\n",
       "    </tr>\n",
       "    <tr>\n",
       "      <td>122</td>\n",
       "      <td>0.0</td>\n",
       "      <td>1.0</td>\n",
       "    </tr>\n",
       "    <tr>\n",
       "      <td>123</td>\n",
       "      <td>0.0</td>\n",
       "      <td>0.0</td>\n",
       "    </tr>\n",
       "  </tbody>\n",
       "</table>\n",
       "<p>124 rows × 2 columns</p>\n",
       "</div>"
      ],
      "text/plain": [
       "     fuel_1  drive_0\n",
       "0       1.0      1.0\n",
       "1       1.0      1.0\n",
       "2       1.0      1.0\n",
       "3       1.0      1.0\n",
       "4       1.0      1.0\n",
       "..      ...      ...\n",
       "119     0.0      1.0\n",
       "120     0.0      1.0\n",
       "121     0.0      1.0\n",
       "122     0.0      1.0\n",
       "123     0.0      0.0\n",
       "\n",
       "[124 rows x 2 columns]"
      ]
     },
     "execution_count": 93,
     "metadata": {},
     "output_type": "execute_result"
    }
   ],
   "source": [
    "finaldata.iloc[:,[2, 0]]"
   ]
  },
  {
   "cell_type": "code",
   "execution_count": 89,
   "metadata": {},
   "outputs": [
    {
     "data": {
      "text/plain": [
       "['drive_0', 'drive_1', 'fuel_1']"
      ]
     },
     "execution_count": 89,
     "metadata": {},
     "output_type": "execute_result"
    }
   ],
   "source": [
    "finaldata.columns.tolist()"
   ]
  },
  {
   "cell_type": "code",
   "execution_count": 81,
   "metadata": {},
   "outputs": [
    {
     "data": {
      "text/plain": [
       "['drive_0', 'drive_1', 'fuel_1']"
      ]
     },
     "execution_count": 81,
     "metadata": {},
     "output_type": "execute_result"
    }
   ],
   "source": [
    "[list(stratifiedData.iloc[:,:-1])[i] for i in largest3.index.values]"
   ]
  },
  {
   "cell_type": "code",
   "execution_count": 78,
   "metadata": {},
   "outputs": [
    {
     "data": {
      "text/html": [
       "<div>\n",
       "<style scoped>\n",
       "    .dataframe tbody tr th:only-of-type {\n",
       "        vertical-align: middle;\n",
       "    }\n",
       "\n",
       "    .dataframe tbody tr th {\n",
       "        vertical-align: top;\n",
       "    }\n",
       "\n",
       "    .dataframe thead th {\n",
       "        text-align: right;\n",
       "    }\n",
       "</style>\n",
       "<table border=\"1\" class=\"dataframe\">\n",
       "  <thead>\n",
       "    <tr style=\"text-align: right;\">\n",
       "      <th></th>\n",
       "      <th>drive_0</th>\n",
       "      <th>drive_1</th>\n",
       "      <th>fuel_1</th>\n",
       "    </tr>\n",
       "  </thead>\n",
       "  <tbody>\n",
       "    <tr>\n",
       "      <td>0</td>\n",
       "      <td>1.0</td>\n",
       "      <td>0.0</td>\n",
       "      <td>1.0</td>\n",
       "    </tr>\n",
       "    <tr>\n",
       "      <td>1</td>\n",
       "      <td>1.0</td>\n",
       "      <td>0.0</td>\n",
       "      <td>1.0</td>\n",
       "    </tr>\n",
       "    <tr>\n",
       "      <td>2</td>\n",
       "      <td>1.0</td>\n",
       "      <td>0.0</td>\n",
       "      <td>1.0</td>\n",
       "    </tr>\n",
       "    <tr>\n",
       "      <td>3</td>\n",
       "      <td>1.0</td>\n",
       "      <td>0.0</td>\n",
       "      <td>1.0</td>\n",
       "    </tr>\n",
       "    <tr>\n",
       "      <td>4</td>\n",
       "      <td>1.0</td>\n",
       "      <td>0.0</td>\n",
       "      <td>1.0</td>\n",
       "    </tr>\n",
       "    <tr>\n",
       "      <td>...</td>\n",
       "      <td>...</td>\n",
       "      <td>...</td>\n",
       "      <td>...</td>\n",
       "    </tr>\n",
       "    <tr>\n",
       "      <td>119</td>\n",
       "      <td>1.0</td>\n",
       "      <td>0.0</td>\n",
       "      <td>0.0</td>\n",
       "    </tr>\n",
       "    <tr>\n",
       "      <td>120</td>\n",
       "      <td>1.0</td>\n",
       "      <td>0.0</td>\n",
       "      <td>0.0</td>\n",
       "    </tr>\n",
       "    <tr>\n",
       "      <td>121</td>\n",
       "      <td>1.0</td>\n",
       "      <td>0.0</td>\n",
       "      <td>0.0</td>\n",
       "    </tr>\n",
       "    <tr>\n",
       "      <td>122</td>\n",
       "      <td>1.0</td>\n",
       "      <td>0.0</td>\n",
       "      <td>0.0</td>\n",
       "    </tr>\n",
       "    <tr>\n",
       "      <td>123</td>\n",
       "      <td>0.0</td>\n",
       "      <td>1.0</td>\n",
       "      <td>0.0</td>\n",
       "    </tr>\n",
       "  </tbody>\n",
       "</table>\n",
       "<p>124 rows × 3 columns</p>\n",
       "</div>"
      ],
      "text/plain": [
       "     drive_0  drive_1  fuel_1\n",
       "0        1.0      0.0     1.0\n",
       "1        1.0      0.0     1.0\n",
       "2        1.0      0.0     1.0\n",
       "3        1.0      0.0     1.0\n",
       "4        1.0      0.0     1.0\n",
       "..       ...      ...     ...\n",
       "119      1.0      0.0     0.0\n",
       "120      1.0      0.0     0.0\n",
       "121      1.0      0.0     0.0\n",
       "122      1.0      0.0     0.0\n",
       "123      0.0      1.0     0.0\n",
       "\n",
       "[124 rows x 3 columns]"
      ]
     },
     "execution_count": 78,
     "metadata": {},
     "output_type": "execute_result"
    }
   ],
   "source": [
    "finaldata.columns = top3Attr\n",
    "finaldata"
   ]
  },
  {
   "cell_type": "code",
   "execution_count": null,
   "metadata": {},
   "outputs": [],
   "source": []
  },
  {
   "cell_type": "code",
   "execution_count": null,
   "metadata": {},
   "outputs": [],
   "source": []
  },
  {
   "cell_type": "code",
   "execution_count": null,
   "metadata": {},
   "outputs": [],
   "source": [
    "stratDf"
   ]
  },
  {
   "cell_type": "code",
   "execution_count": null,
   "metadata": {},
   "outputs": [],
   "source": [
    "a = pd.DataFrame(stratPCA.components_.T * np.sqrt(stratPCA.explained_variance_))"
   ]
  },
  {
   "cell_type": "code",
   "execution_count": null,
   "metadata": {},
   "outputs": [],
   "source": [
    "a['ss'] = 0.0\n",
    "for i in range(0,17):\n",
    "    a['ss'] = a['ss']+a[:][i]**2"
   ]
  },
  {
   "cell_type": "code",
   "execution_count": null,
   "metadata": {},
   "outputs": [],
   "source": [
    "a['ss'] = a['ss']**0.5"
   ]
  },
  {
   "cell_type": "code",
   "execution_count": null,
   "metadata": {},
   "outputs": [],
   "source": [
    "a"
   ]
  },
  {
   "cell_type": "code",
   "execution_count": null,
   "metadata": {},
   "outputs": [],
   "source": [
    "stratPCA.explained_variance_ratio_"
   ]
  },
  {
   "cell_type": "code",
   "execution_count": null,
   "metadata": {},
   "outputs": [],
   "source": [
    "a = pd.DataFrame(stratPCA.components_)\n",
    "a['ss'] = 0.0\n",
    "for i in range(0,4):\n",
    "    a['ss'] = a['ss']+a[:][i]**2"
   ]
  },
  {
   "cell_type": "code",
   "execution_count": 54,
   "metadata": {},
   "outputs": [
    {
     "ename": "NameError",
     "evalue": "name 'percentVariance' is not defined",
     "output_type": "error",
     "traceback": [
      "\u001b[1;31m---------------------------------------------------------------------------\u001b[0m",
      "\u001b[1;31mNameError\u001b[0m                                 Traceback (most recent call last)",
      "\u001b[1;32m<ipython-input-54-b643dd3274e6>\u001b[0m in \u001b[0;36m<module>\u001b[1;34m\u001b[0m\n\u001b[1;32m----> 1\u001b[1;33m \u001b[0mpercentVariance\u001b[0m\u001b[1;33m\u001b[0m\u001b[1;33m\u001b[0m\u001b[0m\n\u001b[0m",
      "\u001b[1;31mNameError\u001b[0m: name 'percentVariance' is not defined"
     ]
    }
   ],
   "source": [
    "percentVariance"
   ]
  },
  {
   "cell_type": "code",
   "execution_count": null,
   "metadata": {},
   "outputs": [],
   "source": []
  },
  {
   "cell_type": "code",
   "execution_count": null,
   "metadata": {},
   "outputs": [],
   "source": []
  }
 ],
 "metadata": {
  "kernelspec": {
   "display_name": "Python 3",
   "language": "python",
   "name": "python3"
  },
  "language_info": {
   "codemirror_mode": {
    "name": "ipython",
    "version": 3
   },
   "file_extension": ".py",
   "mimetype": "text/x-python",
   "name": "python",
   "nbconvert_exporter": "python",
   "pygments_lexer": "ipython3",
   "version": "3.7.4"
  }
 },
 "nbformat": 4,
 "nbformat_minor": 2
}
